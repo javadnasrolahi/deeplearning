{
  "cells": [
    {
      "cell_type": "markdown",
      "metadata": {
        "deletable": false,
        "editable": false,
        "heading_collapsed": true,
        "id": "akrHga99nRnv",
        "run_control": {
          "frozen": true
        }
      },
      "source": [
        "# Deep Learning"
      ]
    },
    {
      "cell_type": "markdown",
      "metadata": {
        "deletable": false,
        "editable": false,
        "heading_collapsed": true,
        "hidden": true,
        "id": "anQO9nWznRnz",
        "run_control": {
          "frozen": true
        }
      },
      "source": [
        "## HW1- problem 2- Support Vector Machine (100 + 10 pts)"
      ]
    },
    {
      "cell_type": "markdown",
      "metadata": {
        "heading_collapsed": true,
        "hidden": true,
        "id": "eIkMcI9Aidhk"
      },
      "source": [
        "### Please fill this part\n",
        "\n",
        "\n",
        "1.   Full Name: Mohammad Javad Nasrolahi \n",
        "2.   Student Number: 400206379\n",
        "\n",
        "\n",
        "*You are just allowded to change those parts that start with \"TO DO\". Please do not change other parts.*\n",
        "\n",
        "*It is highly recommended to read each codeline carefully and try to understand what it exactly does. Best of luck and have fun!*"
      ]
    },
    {
      "cell_type": "code",
      "execution_count": 10,
      "metadata": {
        "hidden": true,
        "id": "DfcbF1XFiczK"
      },
      "outputs": [],
      "source": [
        "# You are not allowed to import other packages.\n",
        "import numpy as np\n",
        "import pandas as pd\n",
        " \n",
        "import matplotlib.pyplot as plt\n",
        "import seaborn as sns\n",
        "\n",
        "from sklearn.svm import SVC\n",
        "\n",
        "import cvxopt"
      ]
    },
    {
      "cell_type": "markdown",
      "metadata": {
        "deletable": false,
        "editable": false,
        "heading_collapsed": true,
        "hidden": true,
        "id": "uZ6qkKtgis8C",
        "run_control": {
          "frozen": true
        }
      },
      "source": [
        "#### About the Data:\n",
        "Heart diseases, also known as [Cardiovascular diseases (CVDs)](https://en.wikipedia.org/wiki/Cardiovascular_disease), are the first cause of death worldwide, taking an estimated 17.9 million lives each year which is about 32% of all deaths all over the world. \n",
        "\n",
        "In the present HomeWork, we are going to implement Support Vector Machines (SVM) algorithm that determines which patient is in danger and which is not.\n",
        "\n",
        "For this perpose, `Heart_Disease_Dataset.csv` file can be used that is attached to the HomeWork folder. Use `Dataset_Description.pdf` for more detail.\n"
      ]
    },
    {
      "cell_type": "code",
      "execution_count": 11,
      "metadata": {
        "hidden": true,
        "id": "fHenCLILOcum"
      },
      "outputs": [],
      "source": [
        "df = pd.read_csv(\"./data/Heart_Disease_Dataset.csv\") "
      ]
    },
    {
      "cell_type": "code",
      "execution_count": 12,
      "metadata": {},
      "outputs": [
        {
          "data": {
            "text/html": [
              "<div>\n",
              "<style scoped>\n",
              "    .dataframe tbody tr th:only-of-type {\n",
              "        vertical-align: middle;\n",
              "    }\n",
              "\n",
              "    .dataframe tbody tr th {\n",
              "        vertical-align: top;\n",
              "    }\n",
              "\n",
              "    .dataframe thead th {\n",
              "        text-align: right;\n",
              "    }\n",
              "</style>\n",
              "<table border=\"1\" class=\"dataframe\">\n",
              "  <thead>\n",
              "    <tr style=\"text-align: right;\">\n",
              "      <th></th>\n",
              "      <th>age</th>\n",
              "      <th>sex</th>\n",
              "      <th>chest pain type</th>\n",
              "      <th>resting bp s</th>\n",
              "      <th>cholesterol</th>\n",
              "      <th>fasting blood sugar</th>\n",
              "      <th>resting ecg</th>\n",
              "      <th>max heart rate</th>\n",
              "      <th>exercise angina</th>\n",
              "      <th>oldpeak</th>\n",
              "      <th>ST slope</th>\n",
              "      <th>target</th>\n",
              "    </tr>\n",
              "  </thead>\n",
              "  <tbody>\n",
              "    <tr>\n",
              "      <th>0</th>\n",
              "      <td>40</td>\n",
              "      <td>1</td>\n",
              "      <td>2</td>\n",
              "      <td>140</td>\n",
              "      <td>289</td>\n",
              "      <td>0</td>\n",
              "      <td>0</td>\n",
              "      <td>172</td>\n",
              "      <td>0</td>\n",
              "      <td>0.0</td>\n",
              "      <td>1</td>\n",
              "      <td>0</td>\n",
              "    </tr>\n",
              "    <tr>\n",
              "      <th>1</th>\n",
              "      <td>49</td>\n",
              "      <td>0</td>\n",
              "      <td>3</td>\n",
              "      <td>160</td>\n",
              "      <td>180</td>\n",
              "      <td>0</td>\n",
              "      <td>0</td>\n",
              "      <td>156</td>\n",
              "      <td>0</td>\n",
              "      <td>1.0</td>\n",
              "      <td>2</td>\n",
              "      <td>1</td>\n",
              "    </tr>\n",
              "    <tr>\n",
              "      <th>2</th>\n",
              "      <td>37</td>\n",
              "      <td>1</td>\n",
              "      <td>2</td>\n",
              "      <td>130</td>\n",
              "      <td>283</td>\n",
              "      <td>0</td>\n",
              "      <td>1</td>\n",
              "      <td>98</td>\n",
              "      <td>0</td>\n",
              "      <td>0.0</td>\n",
              "      <td>1</td>\n",
              "      <td>0</td>\n",
              "    </tr>\n",
              "    <tr>\n",
              "      <th>3</th>\n",
              "      <td>48</td>\n",
              "      <td>0</td>\n",
              "      <td>4</td>\n",
              "      <td>138</td>\n",
              "      <td>214</td>\n",
              "      <td>0</td>\n",
              "      <td>0</td>\n",
              "      <td>108</td>\n",
              "      <td>1</td>\n",
              "      <td>1.5</td>\n",
              "      <td>2</td>\n",
              "      <td>1</td>\n",
              "    </tr>\n",
              "    <tr>\n",
              "      <th>4</th>\n",
              "      <td>54</td>\n",
              "      <td>1</td>\n",
              "      <td>3</td>\n",
              "      <td>150</td>\n",
              "      <td>195</td>\n",
              "      <td>0</td>\n",
              "      <td>0</td>\n",
              "      <td>122</td>\n",
              "      <td>0</td>\n",
              "      <td>0.0</td>\n",
              "      <td>1</td>\n",
              "      <td>0</td>\n",
              "    </tr>\n",
              "  </tbody>\n",
              "</table>\n",
              "</div>"
            ],
            "text/plain": [
              "   age  sex  chest pain type  resting bp s  cholesterol  fasting blood sugar  \\\n",
              "0   40    1                2           140          289                    0   \n",
              "1   49    0                3           160          180                    0   \n",
              "2   37    1                2           130          283                    0   \n",
              "3   48    0                4           138          214                    0   \n",
              "4   54    1                3           150          195                    0   \n",
              "\n",
              "   resting ecg  max heart rate  exercise angina  oldpeak  ST slope  target  \n",
              "0            0             172                0      0.0         1       0  \n",
              "1            0             156                0      1.0         2       1  \n",
              "2            1              98                0      0.0         1       0  \n",
              "3            0             108                1      1.5         2       1  \n",
              "4            0             122                0      0.0         1       0  "
            ]
          },
          "execution_count": 12,
          "metadata": {},
          "output_type": "execute_result"
        }
      ],
      "source": [
        "df.head()"
      ]
    },
    {
      "cell_type": "markdown",
      "metadata": {
        "deletable": false,
        "editable": false,
        "heading_collapsed": true,
        "hidden": true,
        "id": "X_IYLKvqP9UE",
        "run_control": {
          "frozen": true
        }
      },
      "source": [
        "### Pre-Processing - (40 pts)"
      ]
    },
    {
      "cell_type": "markdown",
      "metadata": {
        "deletable": false,
        "editable": false,
        "heading_collapsed": true,
        "hidden": true,
        "id": "8m2XZqJxnRn3",
        "run_control": {
          "frozen": true
        }
      },
      "source": [
        "#### Exploratory Data Analysis (EDA):\n",
        "In statistics, exploratory data analysis is an approach to analyze datasets to summarize their main characteristics, often using statistical graphics and other data visualization methods.\n",
        "\n",
        "This is a general approach that should be applied when you encounter a dataset."
      ]
    },
    {
      "cell_type": "code",
      "execution_count": 13,
      "metadata": {
        "hidden": true,
        "id": "3kixE3b8SDxi"
      },
      "outputs": [
        {
          "name": "stdout",
          "output_type": "stream",
          "text": [
            "shape of dataset is:  (1190, 12)\n",
            "False\n",
            "this dataset has/has not missing value\n",
            "1    629\n",
            "0    561\n",
            "Name: target, dtype: int64\n",
            "ballanced: True/False\n",
            "--------------------- Plots --------------------------\n"
          ]
        },
        {
          "name": "stderr",
          "output_type": "stream",
          "text": [
            "/Users/javad/opt/anaconda3/lib/python3.9/site-packages/seaborn/distributions.py:2619: FutureWarning: `distplot` is a deprecated function and will be removed in a future version. Please adapt your code to use either `displot` (a figure-level function with similar flexibility) or `histplot` (an axes-level function for histograms).\n",
            "  warnings.warn(msg, FutureWarning)\n"
          ]
        },
        {
          "data": {
            "text/plain": [
              "<matplotlib.legend.Legend at 0x14b005ee0>"
            ]
          },
          "execution_count": 13,
          "metadata": {},
          "output_type": "execute_result"
        },
        {
          "data": {
            "image/png": "[encoded data removed]",
            "text/plain": [
              "<Figure size 640x480 with 1 Axes>"
            ]
          },
          "metadata": {},
          "output_type": "display_data"
        },
        {
          "data": {
            "text/plain": [
              "<Figure size 640x480 with 0 Axes>"
            ]
          },
          "metadata": {},
          "output_type": "display_data"
        },
        {
          "data": {
            "image/png": "[encoded data removed]",
            "text/plain": [
              "<Figure size 500x500 with 1 Axes>"
            ]
          },
          "metadata": {},
          "output_type": "display_data"
        },
        {
          "data": {
            "image/png": "[encoded data removed]",
            "text/plain": [
              "<Figure size 640x480 with 1 Axes>"
            ]
          },
          "metadata": {},
          "output_type": "display_data"
        },
        {
          "data": {
            "image/png": "[encoded data removed]",
            "text/plain": [
              "<Figure size 640x480 with 1 Axes>"
            ]
          },
          "metadata": {},
          "output_type": "display_data"
        }
      ],
      "source": [
        "###############################################################################\n",
        "## TODO: Find the shape of the dataset.                                      ##\n",
        "###############################################################################\n",
        "from calendar import c\n",
        "from matplotlib.pyplot import figure, legend, xlabel, ylabel\n",
        "\n",
        "\n",
        "shape = df.shape\n",
        "print(\"shape of dataset is: \" , shape)\n",
        "\n",
        "###############################################################################\n",
        "## TODO: Check if there is missing entries in the dataset columnwise.        ##\n",
        "###############################################################################\n",
        "missings = df.isnull().values.any()\n",
        "print(missings)\n",
        "print(\"this dataset has/has not missing value\")\n",
        "\n",
        "###############################################################################\n",
        "## TODO: Check whether the dataset is balanced or not.                       ##\n",
        "## If the difference between 2 classes was less than 100 for our dataset,    ##\n",
        "## it is called \"ballanced\".                                                 ##\n",
        "###############################################################################\n",
        "print(df['target'].value_counts(dropna=False))\n",
        "print(\"ballanced: True/False\")\n",
        "\n",
        "###############################################################################\n",
        "## TODO: plot the age distirbution and gender distrbution for both normal    ##\n",
        "## and heart diseses patients.(4 plots)                                      ##\n",
        "###############################################################################\n",
        "print(\"--------------------- Plots --------------------------\")\n",
        "groups = df.groupby('target')\n",
        "\n",
        "sns.distplot(groups.get_group(0)['age'], bins=20, label='normal', color='blue', hist_kws=dict(edgecolor=\"k\", linewidth=2))\n",
        "xlabel('Age')\n",
        "ylabel('Count')\n",
        "legend()\n",
        "plt.figure()\n",
        "\n",
        "sns.displot(groups.get_group(1)['age'], bins=20, label='heart disease', color='red', kde=True)\n",
        "xlabel('Age')\n",
        "ylabel('Count')\n",
        "legend()\n",
        "plt.figure()\n",
        "\n",
        "plt.hist(groups.get_group(0)['sex'], bins=2, label='normal', color='blue', edgecolor='black')\n",
        "xlabel('gender')\n",
        "ylabel('Count')\n",
        "legend()\n",
        "plt.figure()\n",
        "\n",
        "plt.hist(groups.get_group(1)['sex'], bins=2, label='heart disease', color='red', edgecolor='black')\n",
        "xlabel('gender')\n",
        "ylabel('Count')\n",
        "legend()\n"
      ]
    },
    {
      "cell_type": "markdown",
      "metadata": {
        "deletable": false,
        "editable": false,
        "heading_collapsed": true,
        "hidden": true,
        "id": "daqdsU91qz51",
        "run_control": {
          "frozen": true
        }
      },
      "source": [
        "#### Outlier Detection & Removal:\n",
        "We will filter ouliers using Z-test."
      ]
    },
    {
      "cell_type": "markdown",
      "metadata": {
        "deletable": false,
        "editable": false,
        "hidden": true,
        "id": "I4SRYCvwq5_E",
        "run_control": {
          "frozen": true
        }
      },
      "source": [
        "![outlier.jpg](data:image/jpeg;base64,/9j/4AAQSkZJRgABAQEAYABgAAD/4RD0RXhpZgAATU0AKgAAAAgABQESAAMAAAABAAEAAAE7AAIAAAAKAAAIVodpAAQAAAABAAAIYJydAAEAAAAUAAAQ2OocAAcAAAgMAAAASgAAAAAc6gAAAAgAAAAAAAAAAAAAAAAAAAAAAAAAAAAAAAAAAAAAAAAAAAAAAAAAAAAAAAAAAAAAAAAAAAAAAAAAAAAAAAAAAAAAAAAAAAAAAAAAAAAAAAAAAAAAAAAAAAAAAAAAAAAAAAAAAAAAAAAAAAAAAAAAAAAAAAAAAAAAAAAAAAAAAAAAAAAAAAAAAAAAAAAAAAAAAAAAAAAAAAAAAAAAAAAAAAAAAAAAAAAAAAAAAAAAAAAAAAAAAAAAAAAAAAAAAAAAAAAAAAAAAAAAAAAAAAAAAAAAAAAAAAAAAAAAAAAAAAAAAAAAAAAAAAAAAAAAAAAAAAAAAAAAAAAAAAAAAAAAAAAAAAAAAAAAAAAAAAAAAAAAAAAAAAAAAAAAAAAAAAAAAAAAAAAAAAAAAAAAAAAAAAAAAAAAAAAAAAAAAAAAAAAAAAAAAAAAAAAAAAAAAAAAAAAAAAAAAAAAAAAAAAAAAAAAAAAAAAAAAAAAAAAAAAAAAAAAAAAAAAAAAAAAAAAAAAAAAAAAAAAAAAAAAAAAAAAAAAAAAAAAAAAAAAAAAAAAAAAAAAAAAAAAAAAAAAAAAAAAAAAAAAAAAAAAAAAAAAAAAAAAAAAAAAAAAAAAAAAAAAAAAAAAAAAAAAAAAAAAAAAAAAAAAAAAAAAAAAAAAAAAAAAAAAAAAAAAAAAAAAAAAAAAAAAAAAAAAAAAAAAAAAAAAAAAAAAAAAAAAAAAAAAAAAAAAAAAAAAAAAAAAAAAAAAAAAAAAAAAAAAAAAAAAAAAAAAAAAAAAAAAAAAAAAAAAAAAAAAAAAAAAAAAAAAAAAAAAAAAAAAAAAAAAAAAAAAAAAAAAAAAAAAAAAAAAAAAAAAAAAAAAAAAAAAAAAAAAAAAAAAAAAAAAAAAAAAAAAAAAAAAAAAAAAAAAAAAAAAAAAAAAAAAAAAAAAAAAAAAAAAAAAAAAAAAAAAAAAAAAAAAAAAAAAAAAAAAAAAAAAAAAAAAAAAAAAAAAAAAAAAAAAAAAAAAAAAAAAAAAAAAAAAAAAAAAAAAAAAAAAAAAAAAAAAAAAAAAAAAAAAAAAAAAAAAAAAAAAAAAAAAAAAAAAAAAAAAAAAAAAAAAAAAAAAAAAAAAAAAAAAAAAAAAAAAAAAAAAAAAAAAAAAAAAAAAAAAAAAAAAAAAAAAAAAAAAAAAAAAAAAAAAAAAAAAAAAAAAAAAAAAAAAAAAAAAAAAAAAAAAAAAAAAAAAAAAAAAAAAAAAAAAAAAAAAAAAAAAAAAAAAAAAAAAAAAAAAAAAAAAAAAAAAAAAAAAAAAAAAAAAAAAAAAAAAAAAAAAAAAAAAAAAAAAAAAAAAAAAAAAAAAAAAAAAAAAAAAAAAAAAAAAAAAAAAAAAAAAAAAAAAAAAAAAAAAAAAAAAAAAAAAAAAAAAAAAAAAAAAAAAAAAAAAAAAAAAAAAAAAAAAAAAAAAAAAAAAAAAAAAAAAAAAAAAAAAAAAAAAAAAAAAAAAAAAAAAAAAAAAAAAAAAAAAAAAAAAAAAAAAAAAAAAAAAAAAAAAAAAAAAAAAAAAAAAAAAAAAAAAAAAAAAAAAAAAAAAAAAAAAAAAAAAAAAAAAAAAAAAAAAAAAAAAAAAAAAAAAAAAAAAAAAAAAAAAAAAAAAAAAAAAAAAAAAAAAAAAAAAAAAAAAAAAAAAAAAAAAAAAAAAAAAAAAAAAAAAAAAAAAAAAAAAAAAAAAAAAAAAAAAAAAAAAAAAAAAAAAAAAAAAAAAAAAAAAAAAAAAAAAAAAAAAAAAAAAAAAAAAAAAAAAAAAAAAAAAAAAAAAAAAAAAAAAAAAAAAAAAAAAAAAAAAAAAAAAAAAAAAAAAAAAAAAAAAAAAAAAAAAAAAAAAAAAAAAAAAAAAAAAAAAAAAAAAAAAAAAAAAAAAAAAAAAAAAAAAAAAAAAAAAAAAAAAAAAAAAAAAAAAAAAAAAAAAAAAAAAAAAAAAAAAAAAAAAAAAAAAAAAAAAAAAAAAAAAAAAAAAAAAAAAAAAAAAAAAAAAAAAAAAAAAAAAAAAAAAAAAAAAAAAAAAAAAAAAAAAAAAAAAAAAAAAAAAAAAAAAAAAAAAAAAAAAAAAAAAAAAAAAAAAAAAAAAAAAAAAAAAAAAAAAAAAAAAAAAAAAAAAAAAAAAAAAAAAAAAAAAAAAAAAAAAAAAAAAAAAAAAAAAAAAAAAAAAAAAAAAAAAAAAAAAAAAAAAAAAAAAAAAAAAAAAAAAAAAAAAAAAAAAAAAAAAAAAAAAAAAAAAAAAAAAAAAAAAAAAAAAAAAAAAAAAAAAAAAAAAAAAAAAAAAAAAAAAAAAAAAAAAAAAAAAAAAAAAAAAAAAAAAAAAAAAAAAAAAAAAAAAAAAAAAAAAAAAAAAAAAAAAAAAAAAAAAAAAAAAAAAAAAAAAAAAAAAAAAAAAAAAAAAAAAAAAAAAAAAAAAAAAAAAAAAAAAAAAAAAAAAAAAAAAAAAAAAAAAAAAAAAAAAAAAAAAAAAAAAAAAAAAAAAAAAAAAAAAAAAAAAAAAAAAAAAAAAAAAAAAAAAAAAAAAAAAAAAAAAAAAAAAAAAAAAAAAAAAAAAAAAAAAAAAAAAAAAAAAAAAAAAAAAAAAAAAAAAAAAAAAAAAAAAAAAAAAAAAAAAAAAAAAAAAAAAAAAAAAAAAAAAAAAAAAAAAAAAAAAAAAAAAAAAAAAAAAAAAAAAAAAAAAAAAAAAAAAAAAAAAAAAAAAAAAAAAAAAAAAAAAAAAAHNpZDMyMWF4bgAABZADAAIAAAAUAAAQrpAEAAIAAAAUAAAQwpKRAAIAAAADNjEAAJKSAAIAAAADNjEAAOocAAcAAAgMAAAIogAAAAAc6gAAAAgAAAAAAAAAAAAAAAAAAAAAAAAAAAAAAAAAAAAAAAAAAAAAAAAAAAAAAAAAAAAAAAAAAAAAAAAAAAAAAAAAAAAAAAAAAAAAAAAAAAAAAAAAAAAAAAAAAAAAAAAAAAAAAAAAAAAAAAAAAAAAAAAAAAAAAAAAAAAAAAAAAAAAAAAAAAAAAAAAAAAAAAAAAAAAAAAAAAAAAAAAAAAAAAAAAAAAAAAAAAAAAAAAAAAAAAAAAAAAAAAAAAAAAAAAAAAAAAAAAAAAAAAAAAAAAAAAAAAAAAAAAAAAAAAAAAAAAAAAAAAAAAAAAAAAAAAAAAAAAAAAAAAAAAAAAAAAAAAAAAAAAAAAAAAAAAAAAAAAAAAAAAAAAAAAAAAAAAAAAAAAAAAAAAAAAAAAAAAAAAAAAAAAAAAAAAAAAAAAAAAAAAAAAAAAAAAAAAAAAAAAAAAAAAAAAAAAAAAAAAAAAAAAAAAAAAAAAAAAAAAAAAAAAAAAAAAAAAAAAAAAAAAAAAAAAAAAAAAAAAAAAAAAAAAAAAAAAAAAAAAAAAAAAAAAAAAAAAAAAAAAAAAAAAAAAAAAAAAAAAAAAAAAAAAAAAAAAAAAAAAAAAAAAAAAAAAAAAAAAAAAAAAAAAAAAAAAAAAAAAAAAAAAAAAAAAAAAAAAAAAAAAAAAAAAAAAAAAAAAAAAAAAAAAAAAAAAAAAAAAAAAAAAAAAAAAAAAAAAAAAAAAAAAAAAAAAAAAAAAAAAAAAAAAAAAAAAAAAAAAAAAAAAAAAAAAAAAAAAAAAAAAAAAAAAAAAAAAAAAAAAAAAAAAAAAAAAAAAAAAAAAAAAAAAAAAAAAAAAAAAAAAAAAAAAAAAAAAAAAAAAAAAAAAAAAAAAAAAAAAAAAAAAAAAAAAAAAAAAAAAAAAAAAAAAAAAAAAAAAAAAAAAAAAAAAAAAAAAAAAAAAAAAAAAAAAAAAAAAAAAAAAAAAAAAAAAAAAAAAAAAAAAAAAAAAAAAAAAAAAAAAAAAAAAAAAAAAAAAAAAAAAAAAAAAAAAAAAAAAAAAAAAAAAAAAAAAAAAAAAAAAAAAAAAAAAAAAAAAAAAAAAAAAAAAAAAAAAAAAAAAAAAAAAAAAAAAAAAAAAAAAAAAAAAAAAAAAAAAAAAAAAAAAAAAAAAAAAAAAAAAAAAAAAAAAAAAAAAAAAAAAAAAAAAAAAAAAAAAAAAAAAAAAAAAAAAAAAAAAAAAAAAAAAAAAAAAAAAAAAAAAAAAAAAAAAAAAAAAAAAAAAAAAAAAAAAAAAAAAAAAAAAAAAAAAAAAAAAAAAAAAAAAAAAAAAAAAAAAAAAAAAAAAAAAAAAAAAAAAAAAAAAAAAAAAAAAAAAAAAAAAAAAAAAAAAAAAAAAAAAAAAAAAAAAAAAAAAAAAAAAAAAAAAAAAAAAAAAAAAAAAAAAAAAAAAAAAAAAAAAAAAAAAAAAAAAAAAAAAAAAAAAAAAAAAAAAAAAAAAAAAAAAAAAAAAAAAAAAAAAAAAAAAAAAAAAAAAAAAAAAAAAAAAAAAAAAAAAAAAAAAAAAAAAAAAAAAAAAAAAAAAAAAAAAAAAAAAAAAAAAAAAAAAAAAAAAAAAAAAAAAAAAAAAAAAAAAAAAAAAAAAAAAAAAAAAAAAAAAAAAAAAAAAAAAAAAAAAAAAAAAAAAAAAAAAAAAAAAAAAAAAAAAAAAAAAAAAAAAAAAAAAAAAAAAAAAAAAAAAAAAAAAAAAAAAAAAAAAAAAAAAAAAAAAAAAAAAAAAAAAAAAAAAAAAAAAAAAAAAAAAAAAAAAAAAAAAAAAAAAAAAAAAAAAAAAAAAAAAAAAAAAAAAAAAAAAAAAAAAAAAAAAAAAAAAAAAAAAAAAAAAAAAAAAAAAAAAAAAAAAAAAAAAAAAAAAAAAAAAAAAAAAAAAAAAAAAAAAAAAAAAAAAAAAAAAAAAAAAAAAAAAAAAAAAAAAAAAAAAAAAAAAAAAAAAAAAAAAAAAAAAAAAAAAAAAAAAAAAAAAAAAAAAAAAAAAAAAAAAAAAAAAAAAAAAAAAAAAAAAAAAAAAAAAAAAAAAAAAAAAAAAAAAAAAAAAAAAAAAAAAAAAAAAAAAAAAAAAAAAAAAAAAAAAAAAAAAAAAAAAAAAAAAAAAAAAAAAAAAAAAAAAAAAAAAAAAAAAAAAAAAAAAAAAAAAAAAAAAAAAAAAAAAAAAAAAAAAAAAAAAAAAAAAAAAAAAAAAAAAAAAAAAAAAAAAAAAAAAAAAAAAAAAAAAAAAAAAAAAAAAAAAAAAAAAAAAAAAAAAAAAAAAAAAAAAAAAAAAAAAAAAAAAAAAAAAAAAAAAAAAAAAAAAAAAAAAAAAAAAAAAAAAAAAAAAAAAAAAAAAAAAAAAAAAAAAAAAAAAAAAAAAAAAAAAAAAAAAAAAAAAAAAAAAAAAAAAAAAAAAAAAAAAAAAAAAAAAAAAAAAAAAAAAAAAAAAAAAAAAAAAAAAAAAAAAAAAAAAAAAAAAAAAAAAAAAAAAAAAAAAAAAAAAAAAAAAAAAAAAAAAAAAAAAAAAAAAAAAAAAAAAAAAAAAAAAAAAAAAAAAAAAAAAAAAAAAAAAAAAAAAAAAAAAAAAAAAAAAAAAAAAAAAAAAAAAAAAAAAAAAAAAAAAAAAAAAAAAAAAAAAAAAAAAAAAAAAAAAAAAAAAAAAAAAAAAAAAAAAAAAAAAAAAAAAAAAAAAAAAAAAAAAAAAAAAAAAAAAAAAAAAAAAAAAAAAAAAAADIwMjA6MDQ6MDEgMjM6Mjc6NDcAMjAyMDowNDowMSAyMzoyNzo0NwAAAHMAaQBkADMAMgAxAGEAeABuAAAA/+ELHGh0dHA6Ly9ucy5hZG9iZS5jb20veGFwLzEuMC8APD94cGFja2V0IGJlZ2luPSfvu78nIGlkPSdXNU0wTXBDZWhpSHpyZVN6TlRjemtjOWQnPz4NCjx4OnhtcG1ldGEgeG1sbnM6eD0iYWRvYmU6bnM6bWV0YS8iPjxyZGY6UkRGIHhtbG5zOnJkZj0iaHR0cDovL3d3dy53My5vcmcvMTk5OS8wMi8yMi1yZGYtc3ludGF4LW5zIyI+PHJkZjpEZXNjcmlwdGlvbiByZGY6YWJvdXQ9InV1aWQ6ZmFmNWJkZDUtYmEzZC0xMWRhLWFkMzEtZDMzZDc1MTgyZjFiIiB4bWxuczpkYz0iaHR0cDovL3B1cmwub3JnL2RjL2VsZW1lbnRzLzEuMS8iLz48cmRmOkRlc2NyaXB0aW9uIHJkZjphYm91dD0idXVpZDpmYWY1YmRkNS1iYTNkLTExZGEtYWQzMS1kMzNkNzUxODJmMWIiIHhtbG5zOnhtcD0iaHR0cDovL25zLmFkb2JlLmNvbS94YXAvMS4wLyI+PHhtcDpDcmVhdGVEYXRlPjIwMjAtMDQtMDFUMjM6Mjc6NDcuNjE0PC94bXA6Q3JlYXRlRGF0ZT48L3JkZjpEZXNjcmlwdGlvbj48cmRmOkRlc2NyaXB0aW9uIHJkZjphYm91dD0idXVpZDpmYWY1YmRkNS1iYTNkLTExZGEtYWQzMS1kMzNkNzUxODJmMWIiIHhtbG5zOmRjPSJodHRwOi8vcHVybC5vcmcvZGMvZWxlbWVudHMvMS4xLyI+PGRjOmNyZWF0b3I+PHJkZjpTZXEgeG1sbnM6cmRmPSJodHRwOi8vd3d3LnczLm9yZy8xOTk5LzAyLzIyLXJkZi1zeW50YXgtbnMjIj48cmRmOmxpPnNpZDMyMWF4bjwvcmRmOmxpPjwvcmRmOlNlcT4NCgkJCTwvZGM6Y3JlYXRvcj48L3JkZjpEZXNjcmlwdGlvbj48L3JkZjpSREY+PC94OnhtcG1ldGE+DQogICAgICAgICAgICAgICAgICAgICAgICAgICAgICAgICAgICAgICAgICAgICAgICAgICAgICAgICAgICAgICAgICAgICAgICAgICAgICAgICAgICAgICAgICAgICAgICAgICAgCiAgICAgICAgICAgICAgICAgICAgICAgICAgICAgICAgICAgICAgICAgICAgICAgICAgICAgICAgICAgICAgICAgICAgICAgICAgICAgICAgICAgICAgICAgICAgICAgICAgICAKICAgICAgICAgICAgICAgICAgICAgICAgICAgICAgICAgICAgICAgICAgICAgICAgICAgICAgICAgICAgICAgICAgICAgICAgICAgICAgICAgICAgICAgICAgICAgICAgICAgIAogICAgICAgICAgICAgICAgICAgICAgICAgICAgICAgICAgICAgICAgICAgICAgICAgICAgICAgICAgICAgICAgICAgICAgICAgICAgICAgICAgICAgICAgICAgICAgICAgICAgCiAgICAgICAgICAgICAgICAgICAgICAgICAgICAgICAgICAgICAgICAgICAgICAgICAgICAgICAgICAgICAgICAgICAgICAgICAgICAgICAgICAgICAgICAgICAgICAgICAgICAKICAgICAgICAgICAgICAgICAgICAgICAgICAgICAgICAgICAgICAgICAgICAgICAgICAgICAgICAgICAgICAgICAgICAgICAgICAgICAgICAgICAgICAgICAgICAgICAgICAgIAogICAgICAgICAgICAgICAgICAgICAgICAgICAgICAgICAgICAgICAgICAgICAgICAgICAgICAgICAgICAgICAgICAgICAgICAgICAgICAgICAgICAgICAgICAgICAgICAgICAgCiAgICAgICAgICAgICAgICAgICAgICAgICAgICAgICAgICAgICAgICAgICAgICAgICAgICAgICAgICAgICAgICAgICAgICAgICAgICAgICAgICAgICAgICAgICAgICAgICAgICAKICAgICAgICAgICAgICAgICAgICAgICAgICAgICAgICAgICAgICAgICAgICAgICAgICAgICAgICAgICAgICAgICAgICAgICAgICAgICAgICAgICAgICAgICAgICAgICAgICAgIAogICAgICAgICAgICAgICAgICAgICAgICAgICAgICAgICAgICAgICAgICAgICAgICAgICAgICAgICAgICAgICAgICAgICAgICAgICAgICAgICAgICAgICAgICAgICAgICAgICAgCiAgICAgICAgICAgICAgICAgICAgICAgICAgICAgICAgICAgICAgICAgICAgICAgICAgICAgICAgICAgICAgICAgICAgICAgICAgICAgICAgICAgICAgICAgICAgICAgICAgICAKICAgICAgICAgICAgICAgICAgICAgICAgICAgICAgICAgICAgICAgICAgICAgICAgICAgICAgICAgICAgICAgICAgICAgICAgICAgICAgICAgICAgICAgICAgICAgICAgICAgIAogICAgICAgICAgICAgICAgICAgICAgICAgICAgICAgICAgICAgICAgICAgICAgICAgICAgICAgICAgICAgICAgICAgICAgICAgICAgICAgICAgICAgICAgICAgICAgICAgICAgCiAgICAgICAgICAgICAgICAgICAgICAgICAgICAgICAgICAgICAgICAgICAgICAgICAgICAgICAgICAgICAgICAgICAgICAgICAgICAgICAgICAgICAgICAgICAgICAgICAgICAKICAgICAgICAgICAgICAgICAgICAgICAgICAgICAgICAgICAgICAgICAgICAgICAgICAgICAgICAgICAgICAgICAgICAgICAgICAgICAgICAgICAgICAgICAgICAgICAgICAgIAogICAgICAgICAgICAgICAgICAgICAgICAgICAgICAgICAgICAgICAgICAgICAgICAgICAgICAgICAgICAgICAgICAgICAgICAgICAgICAgICAgICAgICAgICAgICAgICAgICAgCiAgICAgICAgICAgICAgICAgICAgICAgICAgICAgICAgICAgICAgICAgICAgICAgICAgICAgICAgICAgICAgICAgICAgICAgICAgICAgICAgICAgICAgICAgICAgICAgICAgICAKICAgICAgICAgICAgICAgICAgICAgICAgICAgICAgICAgICAgICAgICAgICAgICAgICAgICAgICAgICAgICAgICAgICAgICAgICAgICAgICAgICAgICAgICAgICAgICAgICAgIAogICAgICAgICAgICAgICAgICAgICAgICAgICAgICAgICAgICAgICAgICAgICAgICAgICAgICAgICAgICAgICAgICAgICAgICAgICAgICAgICAgICAgICAgICAgICAgICAgICAgCiAgICAgICAgICAgICAgICAgICAgICAgICAgICAgICAgICAgICAgICAgICAgICAgICAgICAgICAgICAgICAgICAgICAgICAgICAgICAgICAgICAgICAgICAgICAgICAgICAgICAKICAgICAgICAgICAgICAgICAgICAgICAgICAgIDw/eHBhY2tldCBlbmQ9J3cnPz7/2wBDAAIBAQIBAQICAgICAgICAwUDAwMDAwYEBAMFBwYHBwcGBwcICQsJCAgKCAcHCg0KCgsMDAwMBwkODw0MDgsMDAz/2wBDAQICAgMDAwYDAwYMCAcIDAwMDAwMDAwMDAwMDAwMDAwMDAwMDAwMDAwMDAwMDAwMDAwMDAwMDAwMDAwMDAwMDAz/wAARCAD7AX4DASIAAhEBAxEB/8QAHwAAAQUBAQEBAQEAAAAAAAAAAAECAwQFBgcICQoL/8QAtRAAAgEDAwIEAwUFBAQAAAF9AQIDAAQRBRIhMUEGE1FhByJxFDKBkaEII0KxwRVS0fAkM2JyggkKFhcYGRolJicoKSo0NTY3ODk6Q0RFRkdISUpTVFVWV1hZWmNkZWZnaGlqc3R1dnd4eXqDhIWGh4iJipKTlJWWl5iZmqKjpKWmp6ipqrKztLW2t7i5usLDxMXGx8jJytLT1NXW19jZ2uHi4+Tl5ufo6erx8vP09fb3+Pn6/8QAHwEAAwEBAQEBAQEBAQAAAAAAAAECAwQFBgcICQoL/8QAtREAAgECBAQDBAcFBAQAAQJ3AAECAxEEBSExBhJBUQdhcRMiMoEIFEKRobHBCSMzUvAVYnLRChYkNOEl8RcYGRomJygpKjU2Nzg5OkNERUZHSElKU1RVVldYWVpjZGVmZ2hpanN0dXZ3eHl6goOEhYaHiImKkpOUlZaXmJmaoqOkpaanqKmqsrO0tba3uLm6wsPExcbHyMnK0tPU1dbX2Nna4uPk5ebn6Onq8vP09fb3+Pn6/9oADAMBAAIRAxEAPwD9+KKKK4wCiivmX/go/wDtgeJP2a/DPhuw8BWukap441g6jrg0y/8A+XzSdJtTdXkcWWQedcTNY6fG24+XJqkcm1xGy1UY3dgPpqivmD4pf8FRvCvgG51G80jwn4y8ceD9B8A6V8TtW8UaEbFtNsPD+oSXyx3f765jmmZYtPuJzFDG7vGp2Bnwjdv+1L+2dY/s3eLPBPhOx8HeMPiL48+Ik96mheG/Da2i3U8FlCs15dST3k9vbQwwq8KkySqzSXEKIrF+DlYHtFFfH+lf8FoPhb4o8HSeINJ0vxnqGlR/CTXfi8xFjFBNFZaPdLaX+nSRSSqyahHcF4ih/dbon/e4wT4X+1v/AMFlPiR4I8NfHLUvA/gWLTtD8A/DbwV418Pa5rCW1ylxNrl6VeO6hivPM2mHdHGEjGySzuWkcpJbF2qcgP00or4p8Wf8FafDfwH1L4iw+JpNR8RahpvxTn+Hvh/R4LbS/D8jyxaPa6nIour7UltpIo4ZGdrqeS2y0iRCHcUMmx8CP+Cxngb9qD4sfDnwn8OfB3xA8WyfETwXB49GpRR6fa2Xh/TW1GXTbj7aZ7tH863u4jHJFbrOzE5j8xVZgezkB9fUV8i+IP8AgqV4d+GHji38M3Wi+KPE2ua14l8QaRp9tb/2Xp0jJpN5b280UC3N6hvpv9KRo4YN9xKkbt5SHar+p/tiftnaX+xzoOk6hq2h3mpwavJPEkza1pOi2cLxIH8t7rU7u1g82TJ8uJXLuElbASJ2VcrA9kni85MbivuKZ9kz1YtxjmvlPwl/wVq8KePbjR7vRfAvxG1DwnqaeEJJfEphsIbGxHij7MulCSNroXLN5l3Aswjifyg+45Xmuh/bO/4Kd+AP2JPFVnoXiKOTUNWk0ebxBdW0etaTpj2thG5j8wf2hd2wnkkZZhHFDvZvIkzt+TecrA+j449ncn606vnjT/8AgoV4d8XfFqTwH4f0HxLrXix9MbxFZW8UcMdvqGgtYi5t9aSeSRUFnPcFbBA5Wb7VvzGIYpJ18u+EH/BXCFv2ePDvizx94F8R6TNb/CnQ/if4x1Gzl05NJ0WDU49RFskSyXrTSNcT6bKsMahyq3Nv5rofM2HJID7Yor5C8E/8FgvBXxPfS9L8N+FvEPiXxhqXiiDwqugaHrOh6q8cs+k6hqkNybu3vns/s7RaXeI2ZhKjwtmPaUd5dM/4K/eC7fwK/iXxN4L8eeCNHuPC+oeKNMl1ltMVtVWwv7TTry0Tyrx1injvb+zhVp2jhk88Osvlq7qezkB9cUV8Q3P/AAV40/4iW/hO68DaJNrd5a+Mr7QvEvh7TNR0zXb++gj8H67rtslhcWV3LatLPNp0Ea7pQQyyoyoCrn1X4j/tx6b4g+Afxk8T/DmRdaX4c+BR4nsNeKCbR766uNKn1G2t12uHkZLf7FcSKQqmLULfaxJYIcr6gfRNFfLdz/wU78K+E/2ifB/wt17SdStNe8WXVlpdpejUtKC3N1c2P2tZY7D7X/aBtCQ0P2gWxQSq3/LMGWsXSf8AgrbY678EtD8daf8ABv4t6jZa54Ob4iJYWzaM19b+HVtradb+Rft4TMpuHSK3DmeQ2k58sBV3HKwPr6ivkrTv+CxnwrvPjfpfgl/tVrcahqGjaLLc3GraTG9tqOrQWk1lbCxN2L+fP2+zjea3tpYo5J8F9sNw8Pb/ABy/b50X4DeONe0+68J+MNc0PwTp9lqvjLxBpyWf9n+ELW6eQJJcCSdJpfLiie4mW3jlaKAByDvRWOV9QPfqK8d+D37Xth8VPC3jvxJdeHde8K+D/AmqaxpUuuatLaG31NtJ1C/sL+aGOCaSZYopLB2zMkbMsi7VODjxv4W/8Fpfhr8VtA17UrPTNYWPwzpFp4mv4bXVdI1ae30OW4WC41GRLG8n8kWSuJrmCXbMseTGkzBkAoNgfY1FfG/xG/4KkN4L1Dw94oh8D+JLr4T6h8MfGvxKudSK2sepTWOhS6f9muIIpLlCIbu2uWkRXTzD9usS3k7blY7Xxd/4LIfD/wDZ/wDHEfh7x5omreDtUsbC21bX7bVNe0GG48OWVzdTwQSyQm/8y6cxwNcPDZC4kjiZBtaR0iY9nID6+or5Wt/+Cni6x42g0TRfg18VtcfVvEniLwlot3DJo8NrrWo6JdXNvepG018hjjItLh0lmVFbyWQ7ZNiPzniL/guD8G9BufCUjTXi6T4m0HQfElxeXWqaVYzaRaawiSWm+zuLxLq4kSJ0llS1imKI67fMc7Kfs5AfZlFfIvw3/wCCl1ro3gjxxN400nUpNd8P33i2bRbfToI1/wCEst9L8YaloEGn2KvJ+8vlMWkROrlEaXV7XafncJ3/AMSP29tB+Hf7Xej/AAZj8O+INY8TapY2GpSS2l1p8awWt5dT2qTx281zHdXUUL27NcPbQyrbxujMfvBU4SQHvdFfKMP/AAVJXWPFf9j6L8F/i1rtxeS+JotJkt5dEii1f/hHtSOnakyGXUEMSCYp5TTiPzd44Xgk8T/8Fcvh74e8Y/DWxXS9autI+KZ8OnQtTbUdJs5LxNdlgisZYdPuLyPUJ4le4iEskNu6R/vMFjDMI37NgfV1FfIP7Fn7duvfFfxF8Q5PHVxoeneHfBPg6z8SzXcFq0Itw+v+LbGeRzubKLa6HaEADO7zTzuAGdY/8FOdesviZ4nuNe+GPjLwz4R0P4eaV4wt9M1b+yoNTu/t2py2wuWuft5tIIIolVpxcSxtbiOR2O3YWfs2B9n0V8c/C3/gqQn7RHxa+H1j4M8JX2o+GdabxTaeIrm3v9P1KbTLjSU0942t5bS8khuopVvQf9H858sikRusijvf2OP+CjPhf9s7xz4s8N6JpF/pWseENO07U7yObWdH1RPKvpLuOKNpNNvLpIrhGs5RJDIylN0ZG5WLCeVvYD6Jor5pX/gpj4Zvfhtb+IrHwr4wvo4/BNv411e0Bsrebw3HcXgs47O/knuI4beZZo9Q813k8mBdKvGkkUIu7ym9/wCCzOh63ZP4u0nTZ38G+C9L8Z3vi+zgubDVbqd9D0vT9TRbG8s7qWzlWSC8U5Epw7eW/lvG4AoNgfdlFfNv7SH/AAUz8Dfsw+MdY8P+ILbUE1TTdU0vRrYz3+n6bZ6jc39peXqAXV5cQwQrHb2Fy7tM6ZKqkYlkdEb1L9l/9pPw7+1t8FdJ8deFWkbR9Ve5t9kksMzW9xa3U1pcwmSCSSCXy7iCaPzYJJIZNm+OSSNldhxa3A9AoooqQCiiigAooooAKKKKACvKPGX7HHgX4j/Gm48c+LdIsfGGpNosGh2Nnrllb31jo8MdxPcSyW0ckZKTTvNGJnLEMtnbABShLer18g/ty/Gv4lfDz436jF4H1rVGt/Bfwn1/4hx+F9O0y0uJPGOp2E0K2mnyySwTTLby+YyOtt5czMYykqbWD1G7egHTaT/wS3+H+gfCX4jeCbLV/GEPh/4keBv+FdXES3duW0PRUutant7exJgxGLdNduLeLzBIqwWtopDMjvJ237TH7HOk/tLeJfBviUeKPGHgPxt4CkvjoPiXwvNbR6hZRXsQhu7cpdwXFtLDMiRFllgcq8EToUdA1fDfw9/aO8afGjT/AA9Y+KfGWj+OtHsvH3w81yw1JNa8PahqHn3mqXIkCx6MFii0947eB7UTh7jd9qDTTqF8vyvXf2/viB+0D8J/G2lXHxe1E6D4y+FbfECK5Fx4bTV/DyQaxooWWC2sreWPT7C4ttQlUwahdX9yogKtLEYjNc6agfZvjP8A4Ii/CjxF8PPD3hjQPEHxG+Hum6L4J1j4fXb6BqVs1z4j0bVp0ur6K9lvLa4Z5JbpXnMsXlOXmlySrbRf+Ln/AARv+Hvxm8MeINDuvGfxL0nSfFXgHQfh9q9rp13pyrf2ui3bXNheMZLKRlu1LyRsyFYWSRv3QYKy+W+Nf2t/G37N3jX4jazosum+INJvvGeseBtKs49Js4W1rxXc+HNCuvD9xeXFrChb7RPDd2ZkY4Z9Ss04WONVp2H7YPxi8Pftvt4DvvGNjcR+CfF3h7wRcWWqXvh7SbfxXZ3Vjp8t1q0toyjUpL6drm9mgFg8doDaxwmF2juHo97uB7h8Tv8AgkV8N/ik/iO8utW8VWeua/8AECX4kwavFHpl1caLqcumQ6XPFbRXdnNbtayWsCq8NzFNlm35DJGU6j4G/wDBOjwf+z/8dND+Imk614qvtf0P4exfDgR3hsktbyzTUH1BryWK3tov9MkuJHLuhSMhjiIMd1eBfG/4u698H/2vvjM8PxU1LwrY+INS8CaPPdXyaZNZ+BtPvRNA2oQJLBkSSTIbaKS5aaBLi9RnjlWPyhc+Mnxb8TfFn/gkF+1ZcJ46vdek8F6J4v0nQvHukw20E3ie1sdOeQTjyY/s/mrL59hPLbRxo0tpO8KwMUEZeXcD1D4y/wDBKvwf8bfBviTw5f8Ajj4kaf4c8Zajq994h0q2udPm0/W01K4W4nt5ILqzmjTy3XEVzCsd5CGYLcjt6P8AHr9kfT/jt8QfCPimPxh4w8F694OsdQ0m3vPD0tmsl1YX72b3ds5uracx72sLYiaAxXEew7JV3Nn5G0XxF4x+EHxk+KXjjwv8UrzW9BsfjB8PPC99ZTaVpc9v42h1jS/COk3F/d3MMCMsogvo7iEWP2WFZI2LJNFIsUWn/wAEzP20viv+0V8Y9KbxlqOnLZ+LvDupatqvhi41fQzdeEL62uraH7JZ2lqo1GNLdpp7S8/tEyuJxAVNuS0LqzA9s+G3/BLnwH8JvhVD4R0vXfGTabbjwSI5bi5tnuAfCj2T6cSVgUfvTYQef8vzhn8vycqV7P45fsg23xh+INr4s0vx946+G/iRNMbRL2/8LSWAk1aw80zJbzre2tyg8uR5WjmhWOeMzShZAHYH5A+MP7Wvxc8I+CrPVIvHesfZfiD8YfFHgOKe1i8O6VH4RsNJvdcW1htbm/tmt/td01lBE0t8J42jjaOOJLmRZmxrr/gol8TNE8QfB3Ute8eaHDod3Y6TNrVt4PudA1V9VjufEN3povLu3m2vfQ3dtBbpF/YF0Zba7edjb3cTW0TuzbA+ybL9gnwva/tCx/FD/hIPGE3jaK8k/wCJjPeQyyPo72aW3/CPszRFjpYdI7wRZ8z7YpnMpZ33c78PP+CYXgfwJ8I9V8GXPiLxz4o03WPAOjfDiW41G6tYbyDS9Jn1OXT3iktLeDy7iH+1HUTAbsWtsxzIJJJfKvgd8ZfEXwE/4J2/tGeNLHxVeeOfFHgvxx8QrqAa4ltcLoRttbvxGJY7WOCV4Y4UW7aJmMrIxSJkiMKJ5N+0JfXX7THiTw/8IdT+Ltz8Yvhva/EjwcLjxIdM8PXkWuPe2+p3M+i3yR2J064+zizsbxQlujCPUbbfuZFkYA+1/DP7GS2HiLwdrXiT4kfEf4g634H8TP4o0681x9MhHnNpF/pXkNBY2dtbrD5OpXMhMcSStL5ZeRkQR1zmqf8ABMf4f654O0DR7zUvFk1t4Z8P63oGnyi9ihuIF1TVNO1V7sSRxKVura70u0e3kTaqbW3LIcMPmv8A4KDxatL+1T8ZrW38eX9nLceCfhdNpGh3cVpPp1tO/jm+ie9WHy0uJPJeKEuFnVW+2FZWP+imCt8Zv2v/AIy/Cv4k6l8I08ba9qVrpHj7UPDp8fyf8I3pGu3scfhvQdbtrBpby1XR1upG1e9IYWYZ7XSmCx+Z5lwDUD65tf2P5dBbwrrOqePPHvxI8UeBPEU/izRrjxFd6fZpcXj6Nf6SlrIljYw28Vt5WozuTDbrIZSrs0gUxtzv7OH7BWl/Dz9iLxD8J9X2aW3j601RdebR7trgacmoRvbpZWk9xHukhsLEW1haySRKPIsLfMSgGMc34y/aX8aXX7Bvwi8T6n4q8M+DNY+IV7oWmeJPGuivaahpOgw3hxJf2jyma0YXL+TBbvIZ4Y5dQgYi4VQsnxrH+1/4g+E3wT13TfBPxkmtby/8XfEXxBJ4wtn8OadZ6wmn6jaW8d7c3moQXMBiElwDPBp1hJLKzCSI28aRwXJZgfdif8EzPD0fxPg8QWvxA+JVnplr4vs/HieHIptMXSpNYtraO18+R/sX2uZJIYgrRSXLRJlTEsJih8ryb9qL/gmt4+t/hJ4B8D/BPxJHpGj+GfhhP8K7zUL7Xhpuq3uniG1gtvtMi6ddxXMQSKRn+zx2d1HIzGC5iWaRR5Nof7X/AIntdI+IXi//AIWZr+keKPihqXgSHT9I06LQlt9Ia/8ADVpeyNZy6oFgsklMd1Gk19JcxFk8uKCa5kRX9U+E37ZPjjxt/wAElfEHxDX4geFL3xZpviTU/Dlv4se9szZz20HiV9OimF3HZ/YPtD2m0R3jWYsRM0c8kItg4o1A94+HH7Cdj8L/ABhZ6h4f+IXxB0PSvMsbzVvDdm+nppeu3tpZ21ml1MzWjXsXmRWVqJIba6igk8g74286fzZvjf8AsFaB8ePHWq6re+KvG+jaT4rsrPTfF3h3Sbi1j0rxla2skrxQ3nm28k8a7ZpInNpNbtNERHK0iIgX4t8Sf8FEviJq/wANfhXpNj4y17RZNRHi5dd8TXs/g/S9Ta+0i8s0i09rudp9BuVS2u7h53sgrzGxYoLMw3cMfu37A/xT1jxl+0L8QvE3jjx1ZvqniXwd4F1Kbw9ZXtnLoNjcX2nlWfTn8v7Q8El35iRO80gkMmBltoVO4H0d8O/2bPDvw9+E3iDwSI7rWfD3ijVde1XUINRKSee2tale6jeQnYqjyfMvpkQfeEewFmYF2870r/gnhZt8L73wXrXxZ+LvizwveJYWLafql9poj/su1lDvpkjQWUTXFvdRqtvcSXJluZYdyeevmSF/Cf8AgqdJeQah+0Jcaf4g1Lwtc2vwT0q6bVNPaFLi2ij1rUJJMNNHJGqtGrqzFchHYgq2HX1T9q7X/H1/8VvhX4F8G/FbVvCVl4h8K+I9X1LXrLSNJ1DUNUbT00w20sf2i3ktkZ3uWZysJjaOSRVRGMUkLVwLXi7/AIJU+DfFvw1t/B//AAmfxA03w3Z+FvFnga3sbS40/wAu20DxCsSzaXGZLRzHb2f2e1+x7CHhW1ijdpYt0bd58Rf2O7Xxv8ZrjxtpPj7x54HvtYtrKz8QWXh6axjtfEsVm8rQCdri1mngkCzzRmayltpmjZQZD5UJj+N9P/bx+Jmj/Bm41TXviBfXGofEj4d/D/xlpb2WjaPB/wAIzqPiLUri0ubGye5EdtFaFEiSGbU3umgfLN9uZktXo/Cz/gov8XNB+Atv4qk1zTPiOkvirxN8K9MaMWV4t74kmEE3hqS/vLC1gtgvnrNps8kEUduZby2K79pmkPeXUD7Y8HfsU+F/AWu+E9Qs9U8QNL4O8V+JvGFkk00LJNd69c39zeJLiIEwo+oziJVKsoWPe0hBLcf8Ov8AgmxoPwa03wnY+DfiN8TvCumeHNA0Tw7qNnp95p4j8VW+kwpb2sl48lm0sM7QRiKWWwe0aRAqkgRxeXD8d9W8faJ8b/2e/hvp3xK1fSV8TQaofE2s2WkaY1/rzafZ28wZVnt5YLczS7i/lx4CSyKgRvLkj+JfBf8AwVA+NGr/ALNPiPx1qHj7wzoN7qXgIeLryHUrvQNQ/wCEGv11XS7aSG306zC3kdjALq/guo9TaW5SS1gUSxS+atF5AfZviD/gn9p9/wDFT4YR29ra3Hg7wF4y1/4iXV7f6o76lf6jqmo3eqDTfs0cCRNYx6lc2t8rvKWSTSLIGORgZl6/9oD9g3Qv2kPiboPiLXvGHjiLTdFv9L1U+G4Z7SbRrq8026N3aXIS4t5Z7OZZT88lhNatMiqkpkVQB89+H/jj468f/GfQvhj4b+OereIPD8nxFfQJfiDp2naBcarqFuPC0+sS2BK2Taf58NzHEGmitFzbXMcRHnRvPXl/wU/4KG/HHx/8OfFniPUPFHhPw3f6v4D1nXbjTPEGs6Gtv4B1K1ubW3EcUFrE9/bW9o089vezaqlykM6QSuIY1kgkNQPuLwD+xD4W+HnivQdatdX8RTXfh0+LWthPLbtG7eJNUTVL4uBCCTHOgWHBG2MkP5rHfXmvg7/gkP4M8A6Voek6N8QPibY+HdHuPCV/PpCz6U0GsXvhpdMTTrm5lawNySY9Is1khimjtziR0ijkcyV85X3/AAUF+JuoeAvBvhPSvFXjCO8uPFet6D4g8VXk/g6y1i3urSxsNQttLhvv3/h+eWWG+ll86O3V2h0+aI28U6TSJu+IP2vvjNqHha58cN8QtJ0k+Bvh98PvFl7onh6z0vUvD/ie51XWNUtr5vtTRzTfZZ7a0iaE2tyvllldZJVyHfvdwPq34Mf8E/vBHwYk8XLbXOua3a+NPD8fhrVLTVZYZIJrJNQ1rUNoEcUZ3NJrt6jHJBjSEABld34XUf8Agk3oOufaZ9U+LXxj1rVlsdE0/StSvrzSZ7jQYtH1P+09PMKnT/JnkjuPvSXsdy8oCmQu6I6+cfCf45337PP/AAT3+Onim6+ImualrWlfFXxdpUV7ew6Xd3GgzTeK7iwtIgrfZYI1Ilt5hJfyeTbi4EjMLSNIl6D9hr9rrx943/Zl/aE1O61D/havir4Ra/f6foUEWo6ZqV/qjRaBp2orYXE+lW1tZSXIvLqa3b7PCAhXyi0jxNK697uB20H/AASv8H3MOpHVPHHxM1y41671qfWry9vrL7RrEOsWFtZahaO8dqghhdbO3kT7MIZYHTZFJHDiEdr+zl+xba/s6+Ob3xI3j7xx411W88P2HhfOtw6TBb21hYzXM1tFFBp9jaRRlGu5lyqfMpUHJRCvwsf2orrwP8TfHXiPSv2gIfip4i1b4deBrW38T6Lp2gxvp1zq2v3kfkQljHp9rC6yM1u98Z3t/PRpRfsYoJqfwT/bV8TeKPHPhPxp41+LF3eWXw30v4pW7zaeulavD4hj01dGuoY7qO0tbeO9uooJpQw04Wpf7IRFIUaaWeuV9APtbVf+CZ3gXUfC/wAQtOstY8WaTL8Q/FVp4ykv7e5t57nQ7611FdVgSzW4hlhFuup/ab3yJ4pozPf3bEbXVUxZf+CTfgTXofFy+JvF3xF8Xy+PI9ci12fVdRtPNvhrGj6fo94MwW0QjUW2mwmJYgixM8gUCMRxx8L/AMEp/wBqzxl8cPjX8T/CfivxsnjS38P+G/DOv2puNV8PajqGmzajJqyTQSvocMdpEhjs7WWODzLmREmDtcSLMir84fDb/gpZ8cvGnwC1rxZ/wm3h3Tdd8ReCIvEzWN9deH9Sm8H6o2r6VZm2s9Os9l2tnF9tvre4j1RpLhJbaBPOhkMoqbSWlwPtZ/8Agmxpsmt6h4kvvix8WNQ8eXWp2WrweLriTRvt+mXFrYXenAw266cthsks766ikjktXQmXzFVJQJB7r8LvAsnwz8FWOj3Gv654ouLVX87VtZlikvr+R5GkeSQxRxxLlnbbHFHHFGu1I0RFVR8M614j8ZTftZ/Dfwj4h+Mni66tPhz+0E3heLU7i30SzuvEdvcfD06yltfCKxjgdjNdT2qi3jgYwzjg3EcVwmP4H/ao+NngX9jT4G+NNU8fX3jTxD+0p4BsbHR7i/0HTo7fw9421Sy06XSwkdnbxE2O2TUZ5/tDSYNqApVXVFTi+4H6RA5pol9eK+FP+Cl37V3xI+Bvxc8N+D/CviaHwnYxeDb/AMU/29f6l4f05Nau7SaKNo7l9VVYTZQKyS3Mdp5M7C6hKT2yod+NrPx6+MHi5/iFqn/CytR8HSQfE7wV8O7PSNJ07SL6x0KHV9N8JXd9cQT3Nm8s9wsmp3ywvMzxKJgWgk2oqLkurgfoKzhOtCtur4A8NftZeNPD/wAX7G11D4uLq2vP471v4f3fw4vNP0uO8tNOsLG+lt9ckMMEdyLyeK0tdTeRmWxNrqAijtVcwy19Ef8ABPXxbrnin9lTwDrXi7xxeeOPF3jTwzpviy9e7ttPs2s/ttpDIYbeC0ghC2iyGQRmUSSdQ80hUES42A94oooqQCiiigArnfEep6H4V1PT77VLjSNPvr+VdJsrm6kigmuZZDuS1iZiCzOyAiNSdxTODiuir5H/AG4f2bNc+JPxU1LWl+Fui/GTSfEHgC98F2Gmale2lvD4Yv5rhpWupPtLLts7pWgW5lt/MuY/7OtvLgm3EpUVd2A+gPD+meBdK1u48O6XY+ErPU3vG1u40u2ito7j7QDEWvHhX5vM3PCTKV3DfHk5IB4v4cfEv4T+O/iXrXgXTNH8PWviybRZPEWraLJp9qs01lqN3PbSTS+XuSX7RLYP5oDsSEiMoXcmef8A2GP2W9Y+Anjn4tax4rW11jxB4k8QaU1p4mlSJ9Q16ztvCnh7TpZpGBMiB76wvG8tyORvwQysfMf+Cdv7I3jL9mv41tq3irwjaxw6t4Bi0Eanb3NncHS7i28R69fNbyESedtuLfVLR08oOhNs4kKMsYa2B9OXHiL4feHLe6sZrvwbp8OmqmqXNs8trCtoLeRIVuZFJAQQyQRoJCBsaFVBDKALPiWTwTpnj7Q9Q1dfC0Pim8ikstGubv7OmoTpxvitnf8Aesp8xcpGSDvHHzV8n+FP+CdCz/GTwV4i1z4d+E7uS2+M3jHxfr15cw2k01zpl/a6tHYyyE5aXLS6ePKOShjjYqpiBXwPx/8A8E5vjfr/AMBPBvg8+C1lvfDXw98J6LYS6XceG4YY7nS7yW4ntdQvrmKTUR9nxG1klhIkG6R1lkiDO9LlA/THVtO8J+KZpLm8sfDupy69ay6G8ssUE7anB+9aSzJOTKgCzs0OSPlkJHBxifBH4yeCfix4Zm0zwsbGG10O71PQf7GEcUElsml6ldaPPttlPy232iynjjIUKyqOBytfP37IHwnt9d/br+K2padqml678O/hhrerR+FTZS+dHp+ua7Jb3viG0m/hNza3cEjLInMa65dW7FWjkWvH9S/4J6fErx14c8VeF9H8C6H8MPFF74w+J/iOL4kpqNm0ur2niBfEVtpkZNqTeiUNqenXLpIvlpHpkBDtMBFDXL0A++Ph/ongfW/DjW3hm18J3Oj2FzBEYtMitpLW3ntBEsKkRZRZIBFAEHBj8qPG0KuJPDs3hC38fa82jxeG/wDhKNQeMa0bPyBf3LQxoE+0lP3jNGksYHmfdEidAwz87/8ABNP9l3WvgT4w8Za9q/h7xf4WXXdI0PSI7HW7rwuqlrL7aWNvaeH7G3tkgRbpY0uJXM8yrtaC3S3j8z4h+B3wqP7WOhWfw3+H+j6Dpvjrwd8FvFfgrxh4lSWzjuPE+rPrXh12/tWJo5bmyl1M2mpSSRatbed5l3ffubhI5HlnlA/VLUte+G/iP4XSSXlx4H1DwRrslw7yTy2kuk6g26Se4YkkwyMGjmlkzk5jkY8qxF7UYPBD/wBm6td2/hWRvCdidQ0++lFvnRbSSNlNxDIf9RE8cbDzEKqVjIzha+KvhB/wT+8QXPxL8CaxrvgvxHN4btPihF4o1nTvGlz4WkmW3g8Ia5p0d6+n6Law6fHJ9su7CJTG9xO6wwu/lLCFXkvFX7Dvxk+H/wCzP8YPBfhr4c2evXXxV+EusfDnS4bbXrGwtPDLR6p4lmskl8xx/o8llrVusCwBwj24ilECHzUfKB99aN8SPB/hm91y6mOi+GLi41SWK9mvJ7O0fU5ofItvPLK5Mn37eIM5DjdEpAyoM+nWPgjwVc6X4TtLPwrpM0bSajpujRx21u4ZWZpJ4bcYOQzOWkVepY55Jr4+0/8A4J4614p/aU8Qav4x8C+G9e8LX0HxNa0Gp/Y72Hztbu/DbWDeU5Yq00FlqCk7flUMr7fMVW4X4f8A/BOf4o2Xxd8M6h4stfF2qTSal4F1wX+m6v4bjsNEbR9N0iC8tr27urKfWfMFxY3kqxWEht7pb1o3e28+5lJyoD7i/aX+JPw9+Afw+1r4gePIdG8jwpoeoao0k1tDNqElpaRC/uYrZX+eRgtokvlp1aCNjgqCNPxhF8P9au9Y8K+II/Bl5JqiLquq6RqP2WRr2OIRqt1cQScuqLBFiR1IUQpg/IuPlD/gqD+xz4u+PknxcGi/DbSfik3xH+EMvgXw015dWELeCdWR9TlN2TeMCsdybyxO+3LSCXSbfeu0rLFkeJ/2NfiZ4v8A2+9E8ZX3hKGLRdG+J0niW6vLNPD1ro19pL6TdadDMpSH+2LnUPLuIo7kXcwg2xuIQ6CKMNRA+r/CH7Rfwy/aF+CnhPxBZ694c1Xwb8VNMjk0WPUHiSPXre5QL5AgmwzsRIEeAqWBYoyhvlrs3+FXht009P7A0HZpN0L+xX+zosWVyFKiaIbf3cm0kb1w2DjOK/LH40f8E2vjF47/AGD/AA/8NdP+GK2OuaN8DLPwHbDTpfC1uk+vWgvorp9Rv7hLi8WzkcWl3YjT2id5bm4F4bYvuh/V3Q9cn1e+1SObTb7T47G6EEEtw8LLfp5aP50YjkZlTc7R4lCPuic7NpRmmWgGRqfwT8Ia1ZTWt54V8M3lrcWEWlTQz6XBIktnExeK2YMpBhRiWWM/KpJIArWk8IabNp15Zyafp8lnqQcXcDWyeVdb1KvvXGG3AkNuByDg8Vp0VF2Bzd98IfC+peDrPw7ceG/D8/h/T/L+yaXJpsL2Vr5f+r8uErsXZ/DtAx2xVrVPh3oeuax/aN7o+k3eobIY/tU1lHJPthnFxCu8gtiOYCVRn5XAYYYA1tUUXYGXqfg/Tda+1fbNPsLtb+1NjdCa2ST7Tbnd+5fIO6P53+Q5X5m45OSDwdptqlksOn6fGumwG0swtsg+yQkKpjj4+RCEQFVwCFAxwK1KKV2Bg3vww8O6jpE2n3Gg6JNp9xYppc1tJYRPDLaJu2W7IV2mFdzbYyNo3HA5Nc74u/Zv8O+NPFfhXU7lbm3t/CN62p2ulWbi3027vBAkEFxdQoAJ3t0RfIDnbGyo4XfFE0foFFO7Ap3mg2l/fWt1NbWslxYh/IleFWkg3ja2xjyu4cHHUVxPxR/Zg8H/ABY8GeI9EvtJt7CHxdNbXGsXWmRJZ3moSW8qTRPJKq7nZWjUZbPy5Hc16FRRcDD0T4baF4ZsLC103RdH0610maWewhtbGOGOxeTf5jRKoARn8yTcy4LeY2c7jl1n8PND07WtX1K30fSbfUPEAjGq3UdnGs2qCNDHH57gbpdqEqN5OFJA4raoouwOYm+DHhO4+H48IyeF/DcnhMAKNEbS4Tp2BJ5oH2fb5fEgDj5eGGetaN74K0vU5LqS607TbmS+jihuGltUczxxMzxI5IO5UZ3ZQeFLsRjJrWoouwMc+AdFMerr/ZOlFfEJLasps48amTEsJM4x+9JiVY8vu+RQvQYqTwz4K0nwbYx2uk6Zpul2scUUKQ2dqluipEgjiQKgACpGqoo6KqgDAFalFK7A5lvg74WbT9VtP+Ea8OfZNdMp1KE6ZD5eoebI0svnLtxJvkd3bfnczEnJJJsj4a6CJLNv7F0Xdp1yt7aH7BFm1nWH7OssZx8kgh/dBhghBtB28Vu0U+ZgYXhD4aaB4As47fQtD0XRYIUaOOPT7GK1VFaR5WUBFACmSSRyAOWkZupJpkXws8OwXWsTR6DoUcviCSObVHXToQ2pSJ9x5ztzKy8YL5IxxXQUUXYGLqXw90XWZzJeaRpN07X0OplprKORjdwhFiuMkf66MRoFk+8oRQDwMcvr/wCzZoHiHxv4E1qQ3lvH8NxO+g6Tay/Z9LtJpLc2q3Bt0ADSRW0lxDECfLRbmQhNwjaP0KijmYGR4q8B6L45jsV1rSdL1ddLu49QsxfWkdwLW5jz5c8YcHbImTtdcMMnBGTSy+CdLmkuHfT9PeS6u4tQnZrVCZrmNY1jnY4+aRFiiCufmURIAQFAGtRSuBjv4B0d/FEmuf2Vpf8AbU1mNPfUPskf2p7UNv8AIMuN5i3EtsJ255xmqmk/CzRNG8WR63babZW+owaYmiwSRR7BbWSOZFgjUfKiBsHCgZ2r2UAdHRT5mAUUUUgCiiigAC+aO45PQ04wqfb6UkP8X+8afXRGKaAb5K+4+lAgUU6iq5UA3yV9Ka9uDUlFHKgI1t1Xu350vkL7/hT6KOVARm2Vv/rUjWoc/MWYdgSetS0UcqAb5K03yB/kVJRRyoBvlLQYVNOoo5UA3yVo8ladRRyoBohUep+tBhU+o+lOoo5UB4L+1B+2VD+yr8WPCNp4i0a4bwDrGm315r3iaF9y+EfJns4YLi6iHzfYma5ZZbhci3xG8gEJlli2j+1Zo/h7xNrmn6wUWRfFMPhjw5b6er3l54hlfRrbVG8uJV5Kxy3LEj5RFblyQM11mtfB2z1b4uQ+LLi6nnaPQbjQDp8iq1rLFNPFM7sCCSx8pVI6FSc14/8ADv8A4JpeEPg0mjt4L1bXNDk8KeLLjxR4ejlk+2W2ipcaaumy6XHG/P2AW6kRRBgYSsQRgkSoTlQHU+E/23PCvj744eF/BOiWuuak3ifS9bvv7RTT5VttNn0m9trK6srkMu6GdZrhlIYBVMYBOZY93S+L/wBp7wT4Fm8WR6trn2V/AqWDa2otZpDYi+bba/dQ7/Mbj5N23vgVxvwr/Yh074QfFTRPGFh4i1S41i3TxCdYNzEjR61LrV7aX1zLtGPJMc1nCsQUkLENjB2/eVR+N/7C6/GTxj4wvI/Gmp6DpPj6PRTrVhBYxSyPNpdx50DwzNzGsgCRyoyvuVPlMZLEnKgOo0v9tb4ea18TIPCNvrF62sXGvXXhaN5NJvI7E6tbQvPLYG6aIQifyY5JFQv86rld2Vy4/tr/AAyj8D+HvEj+KrePQ/FXha58aaXdvazql1pNubQTXP3Mrg39mBGwEjGdQqsQQMrTv2NdNs9QsLibX9UvBYfEe7+I4WSKH5554biJbQnGRFH9oDKww/7pQSRuzyXgf/gnUnhDwz4d0W48ZSa9pfgrwRqnw+0Oy1bQLS5sv7JvJNOYLewn5buRI9NhiYnYkiM2UViWJyR6geuWv7SXhU6kljd3WoaXqT6JeeIjY6hplxa3MVjaTpBcTMjoMBZJEwOrhgy7lIJp2v7Vfged/B7LqV8lr47W0Oi3smk3kdldtdRedbRm4aIRRySoMrHIysSVXG9lU+V6X/wTbtPCGiabY+F/GmreG7e30PXfDVxFDZpcQpp+q3SXTw2aysxtBbOgS3AaRI4zsZH2oVkg/wCCdBj8QeH5pPHmqX2l+FdR8N6lpVpfWCXEumnR4IoPs9vIX2QW9yIzJII4xJ5srkyMmIwckeoHpn7Jfxh1L49/B+XxBqlvaWl5H4k8Q6OI7VWWPytP1q+0+JiGLHc0VrGzHOCzMQAMAen+QPVvzriv2e/gtb/AL4ey+HrXULjU4ZNZ1fWfOmjCOG1DU7rUGjwONsbXRRe5CAnk13FHKgGeQPVvzo8gerfnT6KOVAM8gerfnR5A9W/On0UcqAZ5A9W/OjyB6t+dPoo5UAzyB6t+dHkD1b86fRRyoBnkD1b86PIHq350+ijlQDPIHq350eQPVvzp9FHKgGeQPVvzo8gerfnT6KOVAM8gerfnR5A9W/On0UcqAh3YYL6jNOprf6/8P6mnVzztfQAoooqQFh/i/wB40+mQ/wAX+8afXVHYAoooqgCiiigAooooAKKKKACiiigAooooAKKKKACiiigAxmms+2nVXuJfLTPQLkknoBRdLVgtXYh1TVbfTLKa4uZobe3t4zJLLIwVI1AyWJPAAAzk18xeLP2+9V+I3iC80f4N+EV8XfZHMU2v385tdIibvsPDS4z2Iz2yOa4r4r/EDUv2/wD4k33hfQ724sfhH4dnMWq39s5RvEtwvJgjbvCD36Ec9Ste0eFfCun+DdAtdL0q0gsdNs0CwwQptVB/XOOSeT3Jr8d4g44xGIqvD5XLlpxdnPrJ7PlvoknfXVvpZav9AwOQ4bAU1UzCHtK0kmoNtRgnZrntq5NfZurdddF5D4e/aT/aEu/F/iqxjsfhnrU/hG5tra+sEWe180z2kV0vkys5/gnQHeB8wIwRzXrP7Pn7cui/FrxUfCfiDS7zwP46i4/sbUjxdDk5glwFkGATjgkZIBHNc18N/ENnrfxU+JWnw6PZ6fdaHqdhBd3sRzLqzSaVaTJJIMD5kSRYhycrGOnSmfHv4BaP8fPC62moFrXVbQiXStWhBW606UEMrIwwduQCV6HHY4I8XC8SZtganPGq6sesZtO/pK11+J0So5bjI+zxNGNNvadNNW83G7Ul1e0rbM+oUuFkNSYr5l/Y4/ac1jVvEV/8L/iNst/iB4fjD293jEfiK0H3bhD0LgfeA64zjIYD6Yjl8zPHSv2fJc4w+Z4WOLwz0e66p9U10aen/APh80yuvgMQ8PX33TW0k9pJ9U+n+Y7GKKKK9U88KKKKACiiigAooooAKKKKACiiigAooooAKKKKACiiigCFv9f+H9TTqa3+v/D+pp1cs9wCiiipAWH+L/eNPpkP8X+8afXVHYAoooqgCiiigAooooAKKKKACiiigAooooAKKKKACiims+2gBWbYK+Vv27/jBqvivW9M+DPg26+z+IvFiedrV7H10fS/uuxPZpORjuvHG8Gvcvjx8Y9L+BHwq1vxZrDH7DotuZNgOGnk4CRL/tOxVR9a+af2SPh7qn9lap8QvFg8zxp8QpRqN0SMfY7b/ljbrnlVChWx1A2Kfu1+ccfZ66VJZZh3adRPma+zDr6N7LyufZcK4GMFLNcQrxpu0E/tVHqtO0F7z87J6M9K+HPw60z4U+CNN8P6NbrbadpcQiiUAbm9WY92Y5JPqa2lG4/TmnscH+KkTg9/wr8qilFKMVoj2JznObqVHeTd2+7erbOH+HHiKw1b4r/EqytdHh0+80fVLCC+vUfc+rPJpdrNHI4wNpjjdIR1yIwe+K7g/KAK4j4ca3pup/Fj4mWdno8Nhf6TqdhBqF6su5tYkfS7SWKVlx8pjidIu+RHniu3retdT000X5I56WsLHlX7UfwWvvH+gad4h8MyNZePPBsovtEu4x+8kKnc0DHurgYweMnHILA+0/sn/tDWf7Snwf0/xFBGtrfDNpqtkeGsLyPCyxEHkDPzLnnay9DkDKcBUG4txXhFzrjfsaftZ2/inJt/APxOlWw11QcRWGo5JjuvRQ+WLem6Uk9BXq8M508px6qSf7qq1Ga7P7M/ls/JnZiMGsywLwb/AItNOVPu1vKn8/ij/eTXU+3lcP0p1V7M7s/TmrFf0AnfVH5iFFFFABRRRQAUUUUAFFFFABRRRQAUUUUAFFFFABRRRQBC3+v/AA/qadTW/wBf+H9TTq5Z7gFFFFSAsP8AF/vGn0yH+L/eNPrqjsAUUUVQBRRRQAUUUUAFFFFABRRRQAUUUUAFFFFABUc77V/rTmfaa84/ag+O9p+zr8Edc8V3HlyPp9vttICf+Pq5f5YYvX5mPOOigntXPjMVTw1CeIrO0YptvyRthcPUxFaGHoq8ptJLu3oj56/al1Zv2pv2p9L+G1uxk8I/D1o9Z8TEcpdXZH7i3J6YAPI75k6Fa9kA5P8AnH0ryn9kP4UXXw1+Fn27WmebxZ4snbWtamkH7xppTvCt/ug9P7xf1r1dRtFfzfiMZVxuIqY6v8VR3t2jtGPyX4ts/UMb7OioYCg706K5U19qX25f9vPb+6kKTmjfsPNFIW2/jxWZwnEfDzWdKv8A4t/Ey1sdJaw1PTtU0+HVb3zi41WVtLtZI5Ap4TZC8cWB18vPeu42nP8A9auH+HesaPf/ABX+JlrYaS1jqWn6pYR6temYuNVkbS7WSKQL/BsheOLA6+WT3ruN3+9+dbYjSVrdF+RjQ+BDVG/6d65n41/C6x+M/wAMdY8M6ljyNUhKLJt5gkBBjkH+6wB/D3rqF+Wmud4xWUoqcXGS0eh0U6k6c1Upu0otNPs0YP8AwT4+N2oePfhjeeFfEzGPxp8PZzo2qK75edEyIZ/U7lUAsepUnvivodW3D8cV8QfF3V2/Zd/aZ8M/FeBWj0DXmTw94sVfuhHYCK5P+7gZJ5/dgfxGvte0nWeDcjB1b5lIOQwPce1fsHAedSxeC+q1n+8o+6/NfZl81p6pnz/FmAhTxMcbQVqde8kukZXtOPyeq8mizRRRX3Z8qFFFFABRRRQAUUUUAFFFFABRRRQAUUUUAFFFFAELf6/8P6mnU1v9f+H9TTq5Z7gFFFFSAsP8X+8afTIf4v8AeNPrqjsAUUUVQBRRRQAUUUUAFFFFABRRRQAUUUUAFFFI7bRQAy5k8tfrXxt+0hrS/tPfti6L4DhY3HhL4Z7NY15QP3VxqDcwwE9DsUgkHA+Zx1Bx9F/tJfHCx/Z++C+v+Lb4Ky6PbFoYWOPtM7YWKIf7zlR9Mn1r59/Y8+F974C+FJ1TXGaTxV4wuX1zWZZV/eGSXLIh9Nqt07Mz44r8s8RM10hlNN/F70/8Kei/7edvkmj7jhPC+wpVM0nuvch/iktZf9uxennJHrO4lc/xd/Wn0w/L0/Gn1+cSPQCjG40UwHB5pIDivhtq2j6h8WfiZb6fpUljqlhqenpqt2Zy66pK2lWrxOq5wmyFo4iBjJjJ713A/nXD/DfUNDuPiv8AEqDT9Pu7XVrfVNPTWLmSTdHfTHS7VoXjXJ2hLcxIRgZZSec5rt0bcorXEX5/kt/Qxo/CLQTgUUVibHPfFf4caf8AFr4dax4b1Li11i3aFnxzE3VJB/tKwDA+oFQf8E6fjBe+K/hRd+DvETsvi74b3R0S/V2y00KZ8ib3DKNue5TPcZ6RhvXGcdq8N+Just+y7+1b4X+JyZj8O+LCvhzxTgfLGWwILlv93auSegQjqefUyPNHleY08U37kvcn/hdrP/t12fpc6vqv1/BVcu+18cP8cVrFf4o3XqkfbkcnmDinVXsTvTd144PrViv6HTuj8tCiiimAUUUUAFFFFABRRRQAUUUUAFFFFABRRRQBC3+v/D+pp1Nb/X/h/U06uWe4BRRRUgLD/F/vGn0yH+L/AHjT66o7AFFFFUAUUUUAFFFFABRRRQAUUUUAFFFFABUdw21PxxUlcP8AtBfGPT/gP8Idd8Xahta30a2aVYy2PPlOFjjB9Xcqo/3vxGOIxFOhSlWqu0Yptvslq/wNqFCpWqxo0leUmkl3b0R8p/tv/Faz+MH7Xvw5+FuJbrw7pOswTa4I/wDVvfPbzz28Eh6YEUDEjuHPQjj3mNt0QLd+TXx78MfCeoaTqHwv1/XnaTxP42+IkOtarI4+ZWk0vVGjj9QFVicdjIR2r7DjbNfgObOpWmsxr35615W7RTtBfJK782z7iGMhKvPLsO708NaCa+1JpOcvnK6X91IdRRRXjnUFNp1NDBfWqiBxfw3vtEuPix8TI9Ns7u21a31SwTWZ5Zd0V5M2l2rwtENx2qtuYkIwMspPOc123SuH+HVzoMvxY+JS6bb30OsQalYLrUsz7oZ5jpdq0JiGThRbmJWGBlwx7k13G1v8itMR8VvJfkY0fhCigHIorE2AHBrlvjN8LbP4zfDLWvDF9tWHWLdokkIyYJRzHIPdXCn8K6miBd7J9RUVKanFwls9GVTqzpTVWm7Sjqn5rY53/gnT8dbj4qfA5tD1iZZPFHgG5Og6pmQM0nlZSKX33KpUnu0b19EK+41+aH7NPjJv2aPjRpfjRpGj8MeNfEmv+HvEPPywyDXL4W1we3AVQT2VXx1r9K7aXJOfzHev3HhHHTnhZYKu71KD5W+6teMvmtPVM+RzxUa8oZphValiFzpL7Mr2nD/t2Wy7NE1FFFfXHhhRRRQAUUUUAFFFFABRRRQAUUUUAFFFFAELf6/8P6mnU1v9f+H9TTq5Z7gFFFFSAsP8X+8afTIf4v8AeNPrqjsAUUUVQBRSK26kkk8vsTnpigB1FAooAKKKaJM9qAHUUUUAFFFI7bRQA2YqFy1fFn7bHi4/H39o3Qvhjbt53h7weE17xKF+5LOcfZ7ZvqCMg9pSf4OPqD49fF/T/gX8Jdc8WakB9l0W2aURlgPPkOFjiB9Xcqo/3q+Nf2bfC+oaZ4Qu/EniBmm8UeNrpta1SVh8ymTJjjx1AVWyB23kdq+B4wxnt508pp7S96p/gT0X/b0tPRNH0OV1f7PwdbOH8Ubwp/8AXyS1kv8ABG79XE1viK274j/Cdj38dw9v+oXqfSvoJByf6V8+fERt3xF+E4/6nmD/ANNmp19Bp1PX8K+K4m/5c/4X+Z53Bcm1Xv8AzR/9JQDpRQOlFfLH3AUHkUUEbqAOI+HNzoEvxZ+Ja6Xb30WsR6nYDW5J33QzzHTLUwtCMnCi3MQYcfOrHnOT2+7/AHvzrh/hxJoD/Ff4mDS479dZXVLAa407DyJJv7LtTCYfRRbmIN/thq7jac//AFq2rW5tOy/JGdL4QHAooByKKxNAogXdLH7YNFLbDEy/gKcdyJ7Hyh4D8AWvxU/Z11/Qb7aIdS13xIiyEZ8iQa5fskg/3XCn8Md6+lP+Ce/x1u/ix8Ev7J15mXxd4HnOh6xG7ZkZohtjmPruRcE92R/avC/2cxu+Gd0f+pk8R/8Ap8vqbpHjP/hmL9q7QvGLN5Hhfx35egeIecR28+R9nuT9MAFj0Ak7nB/SK2J/s3NKeP8AsStCp6O3K3/hf4NnxHB9Z47L6mTT1lrUpf40ryiv8ceneKPvZX3GnVXtpQR+HUVYr9STuro4QooopgFFFFABRRSM20dM0ALRRRQAUUU1H3H7pFADqKKKAIW/1/4f1NOprf6/8P6mnVyz3AKKKKkBYf4v940+mQ/xf7xp9dUdgGynC8de1fGOkftg+JfhP8fPGP8AbQuvE3hf4pa7qGlfDq3BKraeIdKkGlzaGXGQkd0LQ3sbkYjMOqM5CouftCsex8EabpsUMdvp+n26W91NfRrFbIgjuJjI00ygDAkkM0xZxyxlkzncc0B8f/sbftOePPEms6f8KbzWLPX/ABpDq3xAuNW8T6xbN5Mi6X4kFtDBDbRumMx6hbEKJMQwxRrhy6lfOfjt+3v4k/a7/wCCfn7QEmj6bpPgm30j4JS6xqEl5dyvPNc6pZ6pEpsp0KBYI/sZeKdkZrhpFULFt3H7u1P4HeD9dhuIrvwr4buFuLybUJQ+mxHzLmVQkszfLzI6jDMeWHBJFM8Q/ArwZ4vEP9q+E/DWpeTYnS4/tWlwyhLQqQbYBlI8kqxHl/d5PFAHiHgf9sTxx8SfHHiJtD8ErceGfC/j2+8F36yusV3b29nCVl1NpGmAGbjaUthEXe2dJVdmcJXEXH/BSTxPo/7GGh/E6/svA/8Awkt/8P4filc+FbM3100WjvaQT+U10AEhdnNwizyKUZkVVjYLI6/V9x8H/C0vjGTxC/h3Qm164AWTUTYRNdSAJ5YzJjccR5QEnIUlenFZ+s/s2+APEun6faah4I8J3tro+ltollDPpEEkdpYMqo1pGpXCwFUQeUBt+ReOBQB84Q/ts+OvDPxy8XeE7qDTde/tj4wN4C8OSwWEgXQrSLwrDrcplRWU3TkJKFUMrGSdzuEcWKwPFP7QXxM0r48XnixfBM//AAl3h/4U61fN4R+2uyaslj4ijj82BUyRNd2kRlgRxuVriOOQ5D19aa18BPBfiMakuoeEvDd9/bU1vc6gZtNif7bNAqJBLJlfmeJY41RjllCKARgVzPwyi8J/Fb4UQ+JPhaND0eW+0q80vQtbj0QKbFfOkU4iYRu0S3MZkMZKq7LuzzmgDV+APxnj+PtnqXiPRW0+88D3EsS+GtWtZzKuu2/ko8tyOMLH5zvEo6nyGboy16LWB8Lfh1pfwj+Heh+F9Dtls9F8PWEOnWMIA+SGJAi5wACcDJOBk81v0AFMmOF/Wn153+0z8cLD9nX4N614s1DY/wDZ8JFrAWwbu4b5Yoh/vORn0Xce1c+KxVLDUZV6ztGKbb8kbYfD1K9aNCkryk0kvN6HzX+2141Px8/aG0P4YWred4e8I7Nf8T7SSkkw/wCPe2Pr94Eg/wDPTP8ABxuuCzenPpXn37PXgfUPDXha61nXnabxV4wum1jWJmHzGSTLJH7BFbp2LEV6D1bv0PWvynAyq4iU8wr/AB1Xe3aK+GPyWr82yuL8dT9vDLcM70sOnFNfam3ec/nLReSRyPxDH/FxPhH/ANjzD/6bNTr6BTr3/Cvn34iHPxB+E/8A2PUA/wDKXqdfQSdf4vwryuJv+XPo/wAzfgvav/ij/wCkoB0ooHSivlj7kKE6/wAVFEZ5/i7dKqIHE/DmPQf+Fr/Es6W+otrTanp510TgeQs39l2oh8n/AGTbeVuz/GWrtt3+9+dcP8Ol0Nfix8SjpsmoNrLanYf24k6gQxz/ANl2ohEPH3fs/kls5+ff0ruMHP8A9atMR8XyX5GND4QHAooByKKxNgxmltjm4T6g/rSDr/F+FLBxN9MfzNVEmWx84fs6tt+HN0P+pl8R/wDp8v62Pin8PrX4p+AdU0G82rDqUBRXIz5Mg5jf8Gx+GR3NY/7OmX+G13nr/wAJL4j/APT5fV3W7Br9QzCjCspUaivGSs/uPxXK8ZVwsqWJoO04NNNd000d1/wT3+O938Xvggmma4zf8Jf4JlOi6ykjZkZ48rHKT33qvLd2V6+gI5PMFfAU/jST9lf9pLRfiFHuTwz4qMeh+KVA+WJjgQ3R/wB3HJ9EYdWGfvazuI541aNldWUMrKchgehH+Ne3wfmUq2GeCrv97RfK/wC9H7Mvmt/NM/RM+o0pyhmWGVqVdcyS+zL7cP8At2W3k0WaKKK+vPnzjv2g/iTD8G/gX4z8XXA3Q+F9Bv8AV5ASRlbe2klPI9kr4Z+L/wC0P8Wvh/8AsQ/GD4Nx61rH/C7/AIO+CtTv7rxd5RVtS0WDTZp9N1dZCCpub14lsn2kMtxbajKmBDHu/QvXtBs/E2lXFjqFra31ldRtDPb3ESywzowwyurAhlIyCCCDmo9U8O2OqQXUV1Z2l1HqEBtrpJoVdbmL5gY3BGGT94/ynI+dvU0AfLuuf8FAtSn8PfEDxhpGj6ZdeEfh/wCNtD8INZu7/wBoazHqMekObuFw2xDjWIzBCUbzhCDvTzl2ec/Fz9sXXfE2gfCf4oXlpYw+GdJ+Ivi6W08P2Ekv9sXsGh6D4qhMUvzFJpJnst7RBFEDmNcysu4fZSfBfwlHrNnqC+GdBS+09Yo7W4TT4lkt1iUrEEbb8vlqSExjYDhcClsPg14T0zxI2tW/hnw/DrEt01+b2PTYkuDcsjI8+/bu8xkZlL53EEgk0AfNetftr/FTQvhfoPiCTwP4dmg8VDwbHpmoPeNDYLea3rNtp9xbYSWSSVIIrqOeO4VVWXDKUQ4z0Ev7ZmsWPxq8J+EYLjwn4hj8Rajqfhe7v7G2vIIdN1nT9JlvZ8SSMUmjEtrPC8KEtF8u6VnEiL7doHwH8F+FrI2+m+EfDOnW7zQXJjttLgjQSQS+dA+AuAY5f3iEfcf5hg5JS0+A/g2z8ZN4jg8J+HYfED3h1E6jHpsK3RujE0LT+bt3eY0TNGz53MhKkkcUAfIP7NX/AAUG+KnxI+BHhdbfwrF468bab8IfCvxA1WS3tmsz4sudXiu3S3twGWK0YrYys0zgwiWdYwqKhat34bftNXn7P/xD+Imp669tJ8P9Q+NOpaBrmsXl5Jnw0JNGsHsXAOVED3SLbMuRiW7hIGCxr3P4r/D34P8AwI+F8fiTxJ4T8J6X4b8D2ZSCVNBSRdItnlUmOGKONmWMyFD5aLtzg44zXQfEL9n/AEnxxp9vp8dnpNjpd14itvEWu2y6fGx1uW3ZZo954Af7TBZu0jBiyW+w/e3KAbvwj1vWvEvw/wBL1HxDpsOi6xqFsl1daejs/wBhZ8sIWZgMuilVbHG8NjjFdLTVTZ+PU06gCFv9f+H9TTqa3+v/AA/qadXLPcAoooqQFh/i/wB40+mQ/wAX+8afXVHYAoooqgPkH4w2PxWg+IHxS0XSdN8fXS+JPHngzWPD+oWN+E0+z0SGbRY9WiSUSqYMC11F5YMAypPlRJ5j4p+FPgZ8SLPxn4F8QCfx5BrN18UvG0Gum78Rzz2UPhi4HiN9MDwmYxLbtKNGeHy0MkRMajaodB9k7R6ClxQB8FeGfDPxo8efCTwTpepH4seC7zw98I4fD/iDV3B1CefxGl5pIldrZLlXvQY7e6LzxOJHgnnEMySNmn3On/Hbwt4B8UJ/wivi/wDtbxF8KdT0Dw5aeHtYnlsrTXIb7VDbXLG6uGmsJbm3nsZUMjv5G14DKTBHu+8HCopOK880H4lXemfHfVPCGsLaLHqFius+G5o1KtdW8XlwXsLgkhpYJnikLDaDHexKFJjdiAeC6wfiVcftVeCJLPQfHWl6X4V8UWOmalcrf3t5Z67osugTrLdyqZfsioupSwxNH5clwr2xmYojhl9R/wCCdfw+1r4WfsheE9B8RabcaRrVi9+bi0nKmSHff3MiZ2kjlHVhz0YV7YIlHanUAFFFNkk8sUAR3TYZRXwz8fPH6/tcftMx6XaSef8AD74X3BMxBzDquq8jbnoyx4I/B+zivWf28f2lL/wDolj4D8HyeZ8QPGwMFsYzzpNqciS6c/w4G7aT3DNzs580+Ffw60/4T+BLLQdNy0NqgaWY8NdSty8pHqxH5BR2r844mx317E/2XR1pwadR9G94w/WXyXXT6KnW/sfAPMJaVqqcaS6xi9J1PLS8Y+d2tkdE77yc/WnINzfQd6a3B/ipYm2n8MVkfmpyHxCGfiL8J/8AseoP10vU/wDGvoIHHrXz78RH/wCLifCT/Z8dQf8Apr1OvfgTtr5vidX9j6P8z7fgrbEf4o/+kokHAooor5M+5CgHB64ooHJ9u/FAHD/Dq20GH4sfExtNur+bWJ9UsG1uKZNsNvMNLtRCITgbg1uImY5bDMRkdB3G7n+L864f4dWehQfFj4mSaXeXtxq9xqentrcM0e2G0mGl2qwrE20bw1uInY5bDOwyPujuK2xHxfJfkY0fgAcCiiisTYB1/i/Clt/+Phfw/nSL97v+FOt/+Phf+A/zNOO9iZbHzf8As6f8k4uv+xm8R/8Ap8vq7roa4b9nLn4cXn/Yy+I//T5fV3NfquI/iP5fkj8Lw38Jf12Mvxx4QsfH3hTUNF1KMyWOpQNDKP4lz0Ye6nDD0IBrrP8Agnf8b76fQ9R+F3iqfd4s8AqIbeRjzqem8eRMueW2gqpPPGwk5Jxj1578ZvDGsaFrWkfETwf8njDwaTKkYXI1O05Mts4HLZUsQOTywHOK8mtWq4HEwzOgm+XSaX2oN3fq46yX3H3nCuOp14zyXFtKNV3hJ7QqbK76Rn8Mvk+h9+RyeYTx0p1cB+z18dNG/aF+GGm+KNEk3Wt/GPOiLfvLOYAeZC47MrcH1GCMg5rvI5/MbH9a/VsPiKWIpRrUXzRkk011TOfEYepQqyo1o8sotpp9Gh9NkcLj606kZQ3WtjE/PjWvAHx+1T9mPTfDdlo/xGs/Fng/4OeNfD97qB16OOTVfE0kNlFpctvILjM5kaO6khnfHlblyUcsF7T4u/BX4l/Dfxf40uvBEnxEvvDEVx8OvEUdqmvzXl3fXFr4iuJvEaW/nTl8y6XFaLLbjZHKDtVS0jA/aEpVCPlzz6VwHwP+Id98WbnxJrca2o8K/wBpPp/h+REPmX8VvmOe8ZicGOS5EyRBRtaKBJQzCYBQD5W+KPhX40eLdS8U+IdHsvGkbN41vNT8N+FtWkuRp2t2P9k6PHDFJPaXcculMbqK8eKR98MTvcvLCXZCOnsbH4t2fxK0/Qxpfjy6t7H4zX2v3+qPqGzTpPDctleyWsUcplzJCs0lrCbbb+7dGJTYoZvsMxKR90UCNR/CPSgD85/Fnwz+Mnxd+BXxbhn8EeLNL/4Tz4e6FPB4cn1Ga9jsPEKahdNqNsktzcSNJKkT2im4QRRTrErICFyP0aB3U3y19KdQAUUUUAQt/r/w/qadTW/1/wCH9TTq5Z7gFFFFSAsP8X+8afXJ+PfjN4a+Fdxp1vrmrW9nea1JJHp1koaa81Jo13yLb28YaWYqvzMEU7RycVa8A/FPQfifpt1d6DqlpqkNjcvZXYhb95ZXCYLwzRnDxSKCCUcBgGBxgiuqOwHRUVDcahDbTQxvJGslwSsSMwDSEAsQo78AnjsCa4f4TftL+Dfjfovhq/8ADOrrqFv4v8N23i3SQYJYZLrS7gIYbnbIqlQ29QFbD8/dqgO+ophnAbv+VKHyaAHda84/aU8A6l4n8H2eseG7eCfxj4OuxregpK4jW6nRGSS0ZzwiXVvJNbFzkJ54faSgFej02SPzBQBifDX4g6b8VPAmkeItHkkm0vWrOK9tnkQxybJF3BXQ8o69GU4KsCCARW7XjngGYfA34+ar4SYeX4e8fSXPiTQD0jttR3b9Usx0AMrOL5FGWdpr88LEBXsLy7B07ZoAJJRGOa8n/ap/aj0f9mX4fnUruNtQ1q+f7Lo+kxn9/qdyeAoHXYCQWbHA45JAOX+2D+2x4T/ZE8DzX2uXUM2sSQPNZaYJRG8oTrLIx4ihUjl24xnGTxXzl4G8Aa74u8czfEL4iXa6l4yvBi0tk+a00CHnEMK5xuAPLc4OeSxLD4riDiSUJ/UMu1rPeX2aafVtfatrGPo3ZHvYLL6GHoLM800pfZjtKq10XVR/ml02V2P+EHw91a31fUvGXjK4GoePPFBEt9LnKWEX8NrEOiquADjj5QOduT3QXmnb8D+L86K8DC4SGGpKlC76tvdt7t+bZ8ZnGbYjMsS8TiXq9EloopaKMV0SVkgxikP5UtFdB5hyXxFXHxG+E4yOfHUHT/sF6nXvoOB+leA/EPj4i/CX/seoD/5S9Tr6AVcZx6+lfN8TO3sfR/mfbcE6LEf4o/8ApKHUUA5FFfJn3QU1Rk9TTqOv5U0wOH+HVhodr8WPiZNpuo3d1rF3qlhJrdtNEVjsZhpdqsSxNtG4PAschILYZmGRjFdxXD/DzTNFs/iv8TLjT9SmvNUvdUsH1e1aIomnSrpdqkSK2BuDwLHISCcFyMjGB3GP84Na1/i/rsjGj8IUUA5FFYmwL97v+FOgOLlfw/maaDg0+FNl0n/Af50R+ImWx83fs5nHw5vP+xl8R/8Ap9vq7rof/rVwv7Ovz/De6/7GTxGf/K7fV3ROT3r9Wrv338vyR+F4f+EgoA578dMdqKEzjPr7Vibo850vxbqf7FHxRufGmi21xeeAPEEqjxRpMHP2GQ8LfQr04yAQMDBIPG0r9zeDfG+l+O/DVnrGj3kOpabqUQntriA7klQjIIP9DyDwea+XbiFL63khkVZIpVKSI6hlkUgggg9QQSDXnvgXxhr37CniS41DRbW8174V6lMZ9S0eNt9zoDtktNbA9Y+PmXOOTnB+aufLcylktVqabw0nd2u/Zt2u0l9h7tL4d0fo+DxlPPqUaFV2xcElFvRVYqyUW3tUS+F/a2eqV/v9W3Utcr8M/ironxf8IWeveG9Rt9V0m+XMc0R+6ehVhwVYHIKtggjkV0xuAT0PPGa/UKNaFWCqU2nF6prZrujwqlOdObp1E1JOzT0aZ5f+014tvrrRtK8E6BdXFj4m8fTyabBd27Yn0ixVd19qCkfdaGE7Y3IK/aZ7VW4fFegeDvCen+BfDen6PpNpBp+k6TaQ2NjawjEdrBEgSONR2VVCgD2rzH9nNP8Aha3iTWfilcOs1n4ijXT/AAsCDth0SFyUuFznm9mL3O4Y3QfYlYbos17FWhAUUjttXNeeeI/2qPh/4P1fVLHUvF2h2dxobrFqhkuR5Wkuyh1W6lH7u3YqysBKykgg9OaAPRKKjiuVmGV5HUEHIYe1c94u+Leg+A73Q7fVtQjs5/EmrJoenIVaQ3N48Ukyw/KDtJjikbLYAC8nkUAdLRWL4J+IGj/EXQf7U0PU7HV9NNxcWgubSZZYjNbzPbzx7gcbo5opI2HZkYdq2PMFAEbf6/8AD+pp1Mzmf8KfXLPcAoooqQPnTxt4L1z4b/8ABQFfilPo+qeIvCer/D+LwkJNNhN3d+GbqDUJrt5Bbr+9eG9WaFHaFWKtpsG9dpV08w+I/wAPviHqnx/8afF7w34f8UaHoOo6n4EsZNLtD9n1rXrLSdQvptSvntlcMY2g1CKAQvieWOxkBiKmEP8AbKbVDFscGl/dn+H6ZrqjsB8T+FvhN488e/tQ+AfGnizw34wXS9F+JniW9sGuL+UzaPp1zpccVhI0cc2UtpWjcGNlIQylHVQziuF8HfA79orwV+yB8O/C3hWPxH4d1PQvgF4a8P3Vot/Gv2XV4LmzTUreFfOVF1D7ClzHHLvQByn75Mbx+iWIx/CKy/GttqF54W1KHRbizs9YktZVsbi6iM0FvcFGETyICCyB8FlBGQCMiqA+Q7X4K+OvE3xV8Bpa+IPie3w31nxbd3Wt6cHvvDw0iyXw7NEkG57lr37NJfpC+0uoEzNt+RiW9E/Yi07x9oHjTx5a+LZNW1zS5pYLrTfEepx3unXd/I894ZrWXT7h3hieBPI/0iz2QTpLGFjj8nYPWfgZ8UU+MPw1sNbk0+TS79vMtNR06R/Mk0y+gkaC6tSw4fyp45E3jhwoYZVgT0uq6xaaLZvPeTQ2cEY+aWZ1jVfqTwKzlUUVeWi8xqLeiNKm+ateJ/Ez/goD8Jfhesi3fjCx1K6UH/RtJJ1CXjt+6yq/8CYCvl344f8ABbiGxiltfBPh3ypOQLzV5RI68cEW8RI9PvSD6Gvmsx40yfB+7OspS/lj7z+5X/E93D8M5jVj7WVP2cP5ptQj98rX+SbfY+wf2oPDKeIfhbc3kGpadoOt+G5k1vRNVv5BDbWF9AGMZlk6rDIpeCbGC0E8y5G6vkj4+/8ABanSpfAln/wrmxm/tDUbYGe81KMEabKBtlgSIHMksUgeNmOIwyEgyAiviP45fteeOP2hNT+0eJNcvNSWNy0MUpCwQH1ihUCNOD1wW968dstNuLLxPqMwIksdTAuX3sN0VyCFbA/uyKEbjo6uf+Whr88zbjrG46nOlhF7CHd2c30a7R8mrs6P+EvLmmv9pqelqSf4Snbz5V5Po79sr4oaz8U/hd461TWNQu9Qur/TbiWee4k8yW4O04Lk9h2UAKo4AA4r9iLpds8nuzGvxX/aFXd8C/F3/YKn/wDQDX7UXbbpn+pqeF6caeEko/zXfduy1b6nyPEGZYjHV1XxMuZ2+SXRJbJLokkhtNAyKd1P/wBak3cV9EeBcXdQelBOP735UD/PFAjkfiJ/yUb4S/8AY8w/+mvU6+gkPJ6/gK+ffiF/yUL4S/8AY9Q/+mrUq+glOC3X8K+Z4m/5c+j/APSmfccF/wDL9f3o/wDpKAdKKMf5waMf5wa+VPuAoBwaMf5waP8APSgDh/h1pWj2Pxa+JVxp+pzXmqX2qWD6tatCUXTZV0u1SJFbA374FikJGcF8dsDuWbH96uG+HOi6XpvxZ+JV3Y6t9v1DVNUsJtUs/KK/2VKul2scce7+LfCkcvHTzMdsnuNv+cGtq9uZei/JGNH4QHAoox/nBox/nBrE2A9KdDzNH/vD+dNx/nBp1uu2eNfcVUd7Ey2PnD9nNv8Ai2t1/teJPEY/8rl9Xc1wn7O3Pw3uT/1MniI/+Vy/ruz8tfqlb4v67I/C8N/CQUBsDvQeP/1UVibAnB7/AICvN/20JGi/Yy+MDIzJIvgXXmVlO1lI024IIPYg4Oe2K9Ixk15r+2n/AMmXfGPr/wAiHr3/AKbLmqgryRUN16o+Jf2Rv2zvF/7M17p+oaLqDLHNbwm8gmUy21+oRcCaPIy3HEi4ceuOK/QLSf8Agop4W/bE8M6F8OreZfC2veNp/smtrcXKpDDpCgNetbzZG5pwVtEAKyo92JAP3Rr8odC50Cx/69Yh/wCOLUfhSK80nVdS1GRljur+XyhHkSJHbxEiJPQ5JeU990pHRRXweUZxjcpqTlhJXhd/u38Ld3s94v00fY/So55RxtONHN48zWiqR+NL+90ml0v7y25rH9GOk29vpthDBbwxW9tDGscUUShI40UAKqgcBQMAAcACryvu6V+LX7PX/BTP4kfAeGGzg1abUNJhOPsOp7ry3UeiEkSx/RX2j+6eK+zvgz/wWd8D+LbaGLxPpOpaHdNw81gwv7Ye+BtlXrnGw9/Sv0bLfEbLK6UMXejP+8vdv5SWlvWwS4aq1vfyypGvHtF2ml5wlaX3X9T7UnOApP8ACc18m/seRax+yb+y7cfDvxl4N8X+KPFOl6prUkr6fpJvrbxubzUbu7W9Fx/x7o90s4aVbqSLy5GlDfIFdvavh7+1b8O/iuqjQfGegX8sg4gF2sc//fp9rj/vmvRIpI3G4BTnuCDn/Oa+2w+Ow+Ijz0JqS8mn+TPDxGFr0JcleEovs00/uep+ePhD4W/HL9lr9lDW/hrDa+N9Z8Rj4GaD4e8LS+HJpJrHSdftTq6XkcFyWAt5IY7nTlSWXYZ0to9pZlKL1ei/s4eItE/aC1TUbXwz4hX7X+0RD4sup2mnnspdKbw5JAt9GXdowomYwv5eGUpGjAIkQX6k+InxHvofi74V8HeH4YJL6+Eur61cSxl007S4fkPQjE1xO8cUYbqguZBuMG0+gx+X/d+70rqOc+A7Tw/8fNavbK08V6/4+8O+HbjTPFsFje2Wk32q31rqr+Ir37DLOtncRyhU0z7IbTzd9uV81ZNreUG6rxN8Mfi3eaL8UdT1Hxt4+sdcg8VaRZ6FL9gv5tK1PTF0fQ5L3bYafJ51vDc30V6rzws0tszShSY2lWX7UZFT+EUhEYx8oP4dKAOI/Zwvda1H4EeC5vEmiXfhvxBJolodS0u61R9UmsLgQqJInunAedlYEGRwGc5LAMTXcVHgCf5VC8du9SVy1PiAKKKKkDzP4kfFfxz4W8UyWXh/4Xal4s05YkcajBr9hZqzHO5PLmkDgrjqRg54r5t8VePf22JvFWpSaL4B8I2+kS3DvZxXOqWDTQwljsRyJDlguATk5OT04H29Emd31pzR56YFZY7L44uCjKco2/lk4v5tdD0MvzB4SbmqcJ3VrTipL5X2Z8FyeO/28pB8vgTwT/wHV7DP57qxtc1r9v8Avg32fwv4Yty3Tb4g0uPH4+Q5r9C/KPtTcAjv+FeVLhahL4q9Z/8AcWa/JnuU+LZ03dYWh86UX+Z+RfxC+D//AAUG8Np4w8RafoFvN/akH9qXum6d42hS41C8htxDuiWCOImSSGKGPYCoJhTHzElvHf2X/wBn/wDa6/bb+Bul+Ntc+G1zZSalLIsa67rf2Oa5RTgTpBeFpo0fnG7lsZHBr92BFgcfXmsH4Y/Dyz+E/wAP9H8N2Mk89jotolnA85BlZEGAWIAGcegFY4ngrKsQrV4yltq5Sb0822XjOOMzrRUKPLRSv/CgoN37ta/ifj1e/wDBKn9prUhibwNo8vOSD4rtNv5Dj9KgX/gkl+0gn/NP9EH/AHNVpX7FN8WvC8XjZfDLa9oo8SMrOulfbovtrqqByRDu3nCEPwPukHoRXSbQO1Y0+A8ngrQg16M+WxGIrYiXPiJuT7t3Z+KY/wCCSn7SB/5p/on4+KrSj/h0x+0gf+ZB0T8PFVpX7V7B6D8qTcD/AA/pVf6i5T/LL/wJnPyo/n1/bw/4J4ftGfBP9krxp4juPhb/AGpZWdky3q6XrUOoT2lu3ElyYIhveOJcs23lQNx+UMR+jvwsu/jh8QPhp4d17VfgHq2g6nrWm299d6ZN4q09JdPlkjVnhZXKupViww4DDowDAgfZfxd+Gln8YfhV4m8I6hJcW+n+KtJutHupLdgs0cNxC0TlCwYBgrkgkEZxwa6JlAB3V6WF4bwOHp+zpxdr33dzOph4VHeR8Yr4a+MLdPgzff8AhV6Z/wDF0Hw38YW/5ozqC/8Ac2aX/wDF19V+Ffi74X8c63qem6Hr2i6xqGilV1C2sr+K4msizyIvmIjFky8Uq5IALROvVWA6XFbf2Hhez+9mP1Gl2Pi5vDXxjH/NGr4f9zZpn/xdKPDXxhbp8G9Q/DxZpf8A8XX2fsHpTCm4cAgj1p/2Hhez+9lfUqXY/Nv9pHX/AIyfD/xz8JZE+CWrXLf8JhHcIkes29558gtZ4BEWg3LFmO4mkDyYUfZ/QEV9Ef8ACRfFVBhfgrrG3Jxu8V6Vz/5Er6A8afDyz8a3+g3FzJPHJ4f1Mapb+WwAeQQzQ4fIOVKTv0wc45FbcsiWkZZtqqoySeAAKwx3DWX4qFONSDvC+qb1u76mmVxq4CrVqUptqo07NLSytp11Pmb/AISL4q/9EU1b/wAKrSv/AI5R/wAJF8Vf+iKat/4VWlf/AByvobwT8QNF+JGgJq3h/VdN1zS5JZoEvNPu47q3eSGRopUEkZKlklR42AOVdGU8g1sV5/8AqRlfaX/gTPb/ALZxXf8AA+Yf+Ei+Kv8A0RTVv/Cq0r/45QfEfxW/6Irq31/4SvS//jlfTjPtNBUS9e1H+pGV9pf+BMX9s4rv+B+Yf7H37R/x68fftpftFaJq37M/iXRtJsdYs3tL+XWre3SRobSK0RRLMqQz+dBDHchrdmChyGzuU19QDxH8ViOfgnqw/wC5r0v/AOOV754c+Htp4X8UeItYikuJLjxLcw3VykhDRxtFbxwKEAAIG2NSc55yeOlFv8WfDl14ym8Nx63pL+IrdS0mlrexG8QBEkJMW7fwksTEYyFlQkYZSdKvBeV1Jczi1ttJ9CYZtiYqyZ4H/wAJF8Vf+iKat/4VWlf/AByj/hIvir/0RTVv/Cq0r/45X09RWf8AqRlfaX/gTL/tnFd/wPmH/hIvit/0RPVv/Cp0r/45UN34p+LFlbSTL8EdamkhRpFRPFWlAuQMgf6zvjH49q+oy2KYRvx8uMU48E5Wmnyv/wACZFTNsVKLjzW+R+bP7F198YfHPwZuLv8A4Uxqn/Iw6wxL61b6fl5b6a4lUR3OyTEc00sOcYPkdjkD1z/hHPjB/wBEZv8A8fFmmf8AxdfVPw2+Hln8LvDDaXZyXU0DX17qBadgz+Zd3c13IOFA2h5mA4ztAzk8m34N+Img/EL+0v7B1jS9Y/se8bT7/wCw3cdx9iulVXaCQoSElVXRih5AdSRyK9uvlGEqTc+W3kmz5jB5TChQjSnJza6u1392h8kr4d+MQ/5oxqB+vizS/wD4ulbw58YAB/xZnUPx8WaZ/wDF19n4pCuax/sPC9n97On6jS7Hxgvh34wd/gzqH4eLNL/+LrxX/gozP8bfBn7CvxWurD4Eazqk114avNOkitfEFldyQQ3MZtprnyYC0sghilklKIpJ8sZwMkfpwUA7H86xfiF4ItfiX4D1vw9eNcQ2euafcadO8JCyLHNE0bFSQQGAYkZBGccGrjkuFi72f3sPqNLc/ET4I/8ABMv9pf4l/Bzwzrlx8KbfQZ9U02C4bT9R8Q29rdWu5BhZImG+NjjOx8MucEAggdX/AMOl/wBpDOR8P9E5658VWlfspqmuab4C8Ovdald21jp1jCDNdXUyQxQouBud2IUdR1PeneDPG2j/ABF0CHVtB1LTtZ0u4LrDeWNwlxbylHaNwroSCVdGUjOQykHBBFeNPgfKpNtxeuvxM6uU/Gf/AIdK/tId/h/of/hVWlDf8Elf2kGYEeAND65/5Gq0r9rsUYqf9Rcp/ll/4EytndH4uw/8Etv2noEC/wDCE6MyjtJ4ps5B/wCPZrif2l/Cn7af7C/h7wreeGvhv4i1VvEWtQ6Osfh3xHLdCB3/ANWjxWr/ALsSEkLI48tSMMRlc/uqGDD7tYHj74dWfj+HS47qS4iXSdUttWi8llXdLA+9A2QcqT1AwfcVnR8P8mpzVSNN3XZtf+k2PcwvE2aYdKMK8nFfZl70f/AXdH5n/DX4Xf8ABQTwRr2r6vJo2iXmra3JGtxPN4zsbgpbwgrBbjzbZyEjDSNjODJPM/V8D03S/FX7fFlF+88HeErg4x+81rTG/wDQUSvuL4hfE3w38J9JXUPE+u6P4f09iyi51O9itISVRpGAeRlHEaO554VGY4CkjcgbzxuX7vY9m9xXf/qthlLmhVqx9Ks7fdc9atxpXqq08LQ9fZRufCSeP/28Gb/kQ/BPHYavYH/2au2+BnxQ/au0PX9Qk+IXwt0vXdMkt1FnFpGvabbyRyhuSxaQAqV7etfXXlmljTHVa6sLkcKFVVVWqSt0lOTT9U2eVis+dek6Tw9KN+sYJNej6HIfCPxl4g8a6HcXXiTwjdeDbyG5MEVnPqNvftPEERhMHgZlALM67SdwMZOMMCeuprYE/TtTq9GpueEFBooqQFVggoMyimDmRvoKdtB7VoqllYA+0rXhvxu8DeKPib8c/DNt/ZuuWPgnRHt7+81LS9YS3udTnExZLV18+N47SPy0kmKq7z71iAEfmiT3LFCrt6Ue0A8p+OPwz8ceOfEFrceGfFD6Hax2hiliW8lg3y7mO/CxsOhAz14rqNd0bxdNoelw6Jr+h6fd28Kx3smpaRNqS3LBVGU2XNuV+YMSTu3ZHTFddRT9qwPAviJ4D8aeNPjx8Jb5tPW6g8Da3dX+r6jcQ2sOk3MUmkXls1zZWyzy3aXm+6WBTIQixPd7s5jDe+/aVxSbAew/KlxS9p3APtK14f4Q8BeJfEn7UereKtc07XNF0fTEmtNCt7XV0ewv1YIj3t3GlwWeV1QLDD5OyFNzszTS4g9wxSbBnOBz7Ue0A8g8RfCzx9qnxfXWLPxa9t4eF9BP9gW+lUeShTfH5YjK/NhuN2DnqOa6/wAXaN43vda8zQfE3hfS9P2IBBf+HJ76YNzuPmpeQqQeMDZxjqe3Y4op+1YHg/wQ8Nax4k/aL13xx4o+HviHwnqi6OPD2kyXF9ptxYW+mxXTy7F+zXMkrTzuyyuzxqiLDFGvzK7ze8faVo2jHSjFL2gFfU75rezkkjiknaNGYRxlVaQgcKCxC5PQZIHqQMkeQ/soeAfEXh4+Idf8XadrGj+IPEc0E0mlvqwvtL0iFQxW1swsz52b2Mtw6xvcSsSFSJIYovZioPagDFHtAPH/AIQ/Cfx/4S8dJfeIPF0ur6WIZUNqbyWYFm+4cNEo+X6110Hh7xqfFTS3XiPwtceH2ncmxHhydLpoDnbGZzelNw4BbycHB+QAgDsqAoHan7VgeUfsafDXVPg98HtQ0fXLOGwvJPF/irVooYpEkVbS+8Rale2pBQlRm3uImK9VJKnBBFer/aVo2j0oxS9p3Ao+ItSkstGuZre1l1CaGF5I7WJ1SS5YKSI1ZiFUscDLMFGckgZNeT/stfDrxD4Z0DX9S8UW2r6b4o8RypPc2cup/bNN0pVTEdtYhZpD5ceT5k8gSWeUu5VI/Jgh9mxRij2gHkfwW+FvjzwV4rkuvEniyTWtPa2eJbdr2WX94WQq2GjXGAG5yeuMV5f4W/Z08YWXxD8L2t5pyW1j4T+LfiD4gya+l3G8eq2V9a6qkFuqBvOWdf7Vjt2DoIxHZyEOd0St9WU3y1/ur+VP2gDhcKBR9pWjFGKXtAOJ/aFm8QTfCfVIfCmi2+va9dKlta21xefZYU3yKrTSMHjZkiUmQxo6NJ5ewMhbevOeAvhNrXhv9m8eG9N1fxNbeIJEaRtQ13UBNqBuHn8yWRpInljjVju2xQkxxoVRVRVAHrO32o2j0p+0A89+A/gPxV4EttSXxT4gk157qVGtmNy8/kBQwYZZFxnIPfp1rL/Zl+GupfDLxT8W5tQsYbGy8TeNW1fSVidGWWzOl6dbh9qE7P3lvKNrYPy5xggn1ajaPSj2gB9pWj7StGKMUvaAeQ/tbeHvFXjvwrpvh/wzp+qNDqk7jVdW02+ht9Q0a2WMgtarLLErXUhbYjOSkOTIyuUWN9P4l/DHxBrHgHQdI8H61eeH30sxozXGoTGZ4ViKBHmPmPKwO0lnLFiMliTk+lkZFGMU/aAeZzr4w+GPwGbbpknxD8XaeC0VmL6OM37tPmP99cGNFEakMSSDiMhckgVD+yH4Fb4bfCaa1utF1rQtS1PWdS1rUo9Ve0a4ur29u5bq4uAtpPPDHG8krFIxIzIgVWLEFm9SKg9qNvtR7R9QD7StH2laMUYpe0A8R+MXgfxN8S/j/wCGoW0vW7PwToPkX9xqOl6ylvPq10JWZLaVBPG8dnEY45Jdqu9wzrF8sKSrPr/HL4Y+OfG+v2s/hjxTJolpDamKSIXksHmS7yQ2FjbsQM5zx+J9XC4PSgDFP2gHlX7RPhnWPE/wD1Lwva6f4j1a/wBe0WfS5rnR7uxgmiZ4CjbnvGVQshJG5Udh1wDg11fwQ0LVPB/we8KaXr0ehQ65pmi2VnqMeiRPFpkdzHAiSi2R/nWAOGCK3zBNoPNdURmjFHtH1APtK0faVoxRil7QBNv7zdS0UVLk3uB//9k=)"
      ]
    },
    {
      "cell_type": "markdown",
      "metadata": {
        "deletable": false,
        "editable": false,
        "hidden": true,
        "id": "CQWeVDlTVU5N",
        "run_control": {
          "frozen": true
        }
      },
      "source": [
        "Z-test formula:\n",
        "\\begin{equation*}\n",
        "    Z = \\bigg|\\frac {x - mu} {std}\\bigg|\n",
        "\\end{equation*}"
      ]
    },
    {
      "cell_type": "code",
      "execution_count": 14,
      "metadata": {
        "hidden": true,
        "id": "O8xwulmnquop"
      },
      "outputs": [
        {
          "name": "stdout",
          "output_type": "stream",
          "text": [
            "(1173, 12)\n"
          ]
        },
        {
          "name": "stderr",
          "output_type": "stream",
          "text": [
            "/var/folders/4t/tng4x2zs42n4cb03783ljlh00000gn/T/ipykernel_915/2144914455.py:14: UserWarning: Boolean Series key will be reindexed to match DataFrame index.\n",
            "  df = df[np.abs(tmp) > -threshold]\n"
          ]
        }
      ],
      "source": [
        "################################################################################\n",
        "## TODO: Suppose that, based on our prior knowledge, we know some columns have##\n",
        "## outliers. Calculate z-score for each featuer and determine the outliers    ##\n",
        "## with threshold=3, then eliminate them. Target dataframe has(1173,12)shape. ##\n",
        "################################################################################\n",
        "\n",
        "\n",
        "columns = [\"age\",\"resting bp s\",\"cholesterol\",\"max heart rate\"]\n",
        "threshold = 3\n",
        "\n",
        "for column in columns:\n",
        "    tmp = (df[column] - df[column].mean())/df[column].std()\n",
        "    df = df[np.abs(tmp) < threshold]\n",
        "    df = df[np.abs(tmp) > -threshold]\n",
        "print(df.shape)\n",
        "\n",
        "################################################################################\n",
        "#                                 END OF YOUR CODE                             #\n",
        "################################################################################"
      ]
    },
    {
      "cell_type": "markdown",
      "metadata": {
        "deletable": false,
        "editable": false,
        "heading_collapsed": true,
        "hidden": true,
        "id": "L3QSude-6lIa",
        "run_control": {
          "frozen": true
        }
      },
      "source": [
        "#### Feature Engineering:\n",
        "Sometimes the collected data are raw; they are either incompatible with your model or hinders its performance. That’s when feature engineering comes to rescue. It encompasses preprocessing techniques to compile a dataset by extracting features from raw data.\n"
      ]
    },
    {
      "cell_type": "code",
      "execution_count": 15,
      "metadata": {
        "hidden": true,
        "id": "k_qiM09jDatb"
      },
      "outputs": [],
      "source": [
        "################################################################################\n",
        "## TODO: Normalize numerical features to be between 0 and 1                   ##\n",
        "## Note that just numerical fetures should be normalized. type of features is ##\n",
        "## determined in dataset description file.                                    ##\n",
        "################################################################################\n",
        "\n",
        "columns = [\"age\",\"resting bp s\",\"cholesterol\",\"max heart rate\", \"oldpeak\"]\n",
        "\n",
        "for i in range(len(columns)):\n",
        "    df[columns[i]] = (df[columns[i]] - df[columns[i]].min()) / (df[columns[i]].max() - df[columns[i]].min())\n",
        "\n",
        "\n",
        "################################################################################\n",
        "#                                 END OF YOUR CODE                             #\n",
        "################################################################################\n"
      ]
    },
    {
      "cell_type": "markdown",
      "metadata": {
        "deletable": false,
        "editable": false,
        "heading_collapsed": true,
        "hidden": true,
        "id": "ffYOhekE8ZDb",
        "run_control": {
          "frozen": true
        }
      },
      "source": [
        "### SVM - (60 pts)"
      ]
    },
    {
      "cell_type": "markdown",
      "metadata": {
        "deletable": false,
        "editable": false,
        "heading_collapsed": true,
        "hidden": true,
        "id": "ljzBLO6DX4_u",
        "run_control": {
          "frozen": true
        }
      },
      "source": [
        "#### spliting data"
      ]
    },
    {
      "cell_type": "code",
      "execution_count": 16,
      "metadata": {
        "hidden": true,
        "id": "pPL0J_vshCxv"
      },
      "outputs": [
        {
          "name": "stdout",
          "output_type": "stream",
          "text": [
            "Train:  (821, 11) (821,)\n",
            "Test:  (352, 11) (352,)\n"
          ]
        }
      ],
      "source": [
        "# The original dataset labels is 0 and 1 and in the following code we change it to -1 and 1. \n",
        "df.target.replace(0 , -1 , inplace = True) \n",
        "\n",
        "# Turn pandas dataframe to numpy array type\n",
        "df = df.to_numpy()\n",
        "\n",
        "# Splitting data into train and test part. 70% for train and 30% for test\n",
        "train = df[:int(len(df) * 0.7)]\n",
        "test = df[int(len(df) * 0.7):]\n",
        "\n",
        "# Getting features \n",
        "X_train = train[: , :-1]\n",
        "y_train = train[: , -1]\n",
        "\n",
        "# Getting labels\n",
        "X_test = test[: , :-1]\n",
        "y_test = test[: , -1]\n",
        "\n",
        "# shapes should be: \n",
        "# Train: (821, 11) (821,)\n",
        "# Test: (352, 11) (352,)\n",
        "print(\"Train: \", X_train.shape ,y_train.shape)\n",
        "print(\"Test: \" ,X_test.shape ,y_test.shape)\n"
      ]
    },
    {
      "cell_type": "markdown",
      "metadata": {
        "deletable": false,
        "editable": false,
        "heading_collapsed": true,
        "hidden": true,
        "id": "srqM6R8Iro1f",
        "run_control": {
          "frozen": true
        }
      },
      "source": [
        "#### SVM Using sklearn:\n",
        "Use the standard libarary SVM classifier (SVC) on the training data, and then test the classifier on the test data. You will need to call SVM with 3 kernels: (1) Linear, (2) Polynomial and (3) RBF. You can change C to achive better results. For \"RBF\" find \"gamma\" witch takes 90% accuracy, at least. For polynomial kernel you are allowed to change \"degree\" to find best results.\n",
        "\n",
        "For each kernel, reportting the followings is required:\n",
        "Accuracy, Precision, Recall, F1score."
      ]
    },
    {
      "cell_type": "code",
      "execution_count": 17,
      "metadata": {
        "hidden": true,
        "id": "YY8DWNWMxrk_"
      },
      "outputs": [],
      "source": [
        "def classification_report(y_true, y_pred):\n",
        "    #################################################################################\n",
        "    ## TODO: Define a function that returns the followings:                        ##\n",
        "    ## Accuracy, Precision, Recall, F1score.                                       ##\n",
        "    #################################################################################\n",
        "    tp = 0\n",
        "    tn = 0\n",
        "    fp = 0\n",
        "    fn = 0\n",
        "    for i in range(len(y_true)):\n",
        "        if y_true[i] == 1 and y_pred[i] == 1:\n",
        "            tp += 1\n",
        "        elif y_true[i] == -1 and y_pred[i] == -1:\n",
        "            tn += 1\n",
        "        elif y_true[i] == -1 and y_pred[i] == 1:\n",
        "            fp += 1\n",
        "        elif y_true[i] == 1 and y_pred[i] == -1:\n",
        "            fn += 1\n",
        "    Accuracy = (tp + tn) / (tp + tn + fp + fn)\n",
        "    Precision = tp / (tp + fp)\n",
        "    Recall = tp / (tp + fn)\n",
        "    F1score = 2 * Precision * Recall / (Precision + Recall)\n",
        "    # ################################################################################\n",
        "    #                                 END OF YOUR CODE                             #\n",
        "    ################################################################################\n",
        "    return Accuracy, Precision, Recall, F1score"
      ]
    },
    {
      "cell_type": "code",
      "execution_count": 18,
      "metadata": {
        "hidden": true,
        "id": "oKuKD5GzorNm"
      },
      "outputs": [
        {
          "name": "stdout",
          "output_type": "stream",
          "text": [
            "results of sklearn svm linear kernel: (0.7869318181818182, 0.7756410256410257, 0.7515527950310559, 0.7634069400630915)\n",
            "results of sklearn svm polynomial kernel: (0.8806818181818182, 0.9047619047619048, 0.8260869565217391, 0.8636363636363636)\n",
            "results of sklearn svm rbf kernel: (0.9090909090909091, 0.8728323699421965, 0.937888198757764, 0.9041916167664671)\n"
          ]
        }
      ],
      "source": [
        "#########################################################################################\n",
        "## TODO: Use svm of sklearn package (imported above) with 3 kernels.                   ##\n",
        "## You should define model, fit using X_train, predict using X_test.                   ##\n",
        "## your predictions known as y_pred.                                                   ##\n",
        "## then use classification_report function to evaluate model.                          ##\n",
        "#########################################################################################\n",
        "\n",
        "# linear kernel\n",
        "model = SVC(kernel='linear')\n",
        "model.fit(X_train, y_train)\n",
        "y_pred = model.predict(X_test)\n",
        "print(\"results of sklearn svm linear kernel:\", classification_report(y_test, y_pred))\n",
        "\n",
        "\n",
        "\n",
        "# polynomial kernel\n",
        "model = SVC(kernel='poly', degree=40)\n",
        "model.fit(X_train, y_train)\n",
        "y_pred = model.predict(X_test)\n",
        "print(\"results of sklearn svm polynomial kernel:\", classification_report(y_test, y_pred))\n",
        "\n",
        "\n",
        "\n",
        "# rbf kernel\n",
        "model = SVC(kernel='rbf', gamma=14)\n",
        "model.fit(X_train, y_train)\n",
        "y_pred = model.predict(X_test)\n",
        "print(\"results of sklearn svm rbf kernel:\", classification_report(y_test, y_pred))\n",
        "\n",
        "#########################################################################################\n",
        "#                                      END OF YOUR CODE                                 #\n",
        "#########################################################################################"
      ]
    },
    {
      "cell_type": "markdown",
      "metadata": {
        "deletable": false,
        "editable": false,
        "heading_collapsed": true,
        "hidden": true,
        "id": "YAns2KOZh1bU",
        "run_control": {
          "frozen": true
        }
      },
      "source": [
        "#### SVM:\n",
        "Now that you know how the standard library SVM works on the dataset, attempt to implement your own version of SVM. Implement SVM using Quadratic Programming(QP) approach. Remember that SVM objective fuction with QP is:\n",
        "\n",
        "\\begin{equation*}\n",
        "    min_{\\alpha}\\quad\\frac{1}{2}\\alpha^T\\,Q\\,\\alpha-1^T\\,\\alpha\\\\\n",
        "    s.t.\\qquad y^T\\,\\alpha=0,\\,\\alpha\\ge0\n",
        "\\end{equation*}\n",
        "\n",
        "where:\n",
        "\\begin{equation*}\n",
        "    Q_{i,j}=y_i\\,y_j\\,\\langle x_i\\,,\\,x_j\\rangle\n",
        "\\end{equation*}\n",
        "\n",
        "and:\n",
        "\\begin{equation*}\n",
        "    \\text{if}\\;(\\alpha_n>0)\\;\\text{then}\\;x_n\\;\\text{is a  support vector}\n",
        "\\end{equation*}\n",
        "\n",
        "For this perpose, complete the following code. You are allowed to use \"cvxopt\" package. It's an optimization package for Quadratic Programming. Below is the user's guide for the QP from CVXOPT:\n",
        "\n",
        "[Quadratic Programming](https://cvxopt.org/userguide/coneprog.html#quadratic-programming)"
      ]
    },
    {
      "cell_type": "code",
      "execution_count": 26,
      "metadata": {
        "hidden": true,
        "id": "fiBeriIyfxR-"
      },
      "outputs": [],
      "source": [
        "# Hide cvxopt output\n",
        "cvxopt.solvers.options[\"show_progress\"] = False\n",
        "\n",
        "#####################################################################################\n",
        "## TODO: Use the information from the lecture slides to formulate the SVM          ##\n",
        "## kernels. These kernel functions will be called in the SVM class.                ##\n",
        "#####################################################################################\n",
        "\n",
        "def linear_kernel(x1, x2):\n",
        "    return np.dot(x1, x2)\n",
        "\n",
        "def polynomial_kernel(x, y, p=8):\n",
        "    return (1 + np.dot(x, y)) ** p\n",
        "\n",
        "def rbf_kernel(x, y, sigma=14):\n",
        "    return np.exp(-np.linalg.norm(x - y) ** 2 * (sigma ))\n",
        "\n",
        "#####################################################################################\n",
        "#                                   END OF YOUR CODE                                #\n",
        "#####################################################################################\n",
        "\n",
        "\n",
        "class MySVM(object):\n",
        "    def __init__(self, kernel=linear_kernel, C=None):\n",
        "        self.kernel = kernel\n",
        "        self.C = C\n",
        "        if self.C is not None: self.C = float(self.C)\n",
        "\n",
        "    def fit(self, X, y):\n",
        "\n",
        "        n_samples, n_features = X.shape\n",
        "\n",
        "        #####################################################################################\n",
        "        ## TODO: Compute Gram matrix \"K\" for the given kernel.                             ##\n",
        "        #####################################################################################        \n",
        "        K = np.zeros((n_samples, n_samples))\n",
        "        for i in range(n_samples):\n",
        "            for j in range(n_samples):\n",
        "                K[i,j] = self.kernel(X[i], X[j])\n",
        "\n",
        "        #####################################################################################\n",
        "        #                                   END OF YOUR CODE                                #\n",
        "        #####################################################################################\n",
        "\n",
        "\n",
        "        #####################################################################################\n",
        "        ## TODO: Setup SVM objective function in QP form (Notation from attached link).    ##\n",
        "        ## Guidance: G and h have defferent definition if C is used or not.                ##\n",
        "        #####################################################################################\n",
        "        P = cvxopt.matrix(np.outer(y, y) * K)\n",
        "        q = cvxopt.matrix(-np.ones((n_samples, 1)))\n",
        "        A = cvxopt.matrix(y, (1, n_samples))\n",
        "        b = cvxopt.matrix(np.zeros(1))\n",
        "        if self.C is None:\n",
        "            G = cvxopt.matrix(-np.eye(n_samples))\n",
        "            h = cvxopt.matrix(np.zeros(n_samples))\n",
        "        else:\n",
        "            G = cvxopt.matrix(np.vstack((np.eye(n_samples) * -1, np.eye(n_samples))))\n",
        "            h = cvxopt.matrix(np.hstack((np.zeros(n_samples), np.ones(n_samples) * self.C)))\n",
        "        #####################################################################################\n",
        "        #                                   END OF YOUR CODE                                #\n",
        "        #####################################################################################\n",
        "\n",
        "        # solve QP problem\n",
        "        solution = cvxopt.solvers.qp(P, q, G, h, A, b)\n",
        "\n",
        "        # Lagrange multipliers\n",
        "        alpha = np.ravel(solution['x'])\n",
        "\n",
        "        # Support vectors have non zero lagrange multipliers\n",
        "        sv = alpha > 1e-5\n",
        "\n",
        "        #this will actually give the indices of the support vectors\n",
        "        ind = np.arange(len(alpha))[sv]\n",
        "\n",
        "        # get alphas of support vector , Xs and ys too.\n",
        "        self.alpha = alpha[sv]\n",
        "        self.sv = X[sv]\n",
        "        self.sv_y = y[sv]\n",
        "\n",
        "\n",
        "        #####################################################################################\n",
        "        ## TODO: Compute the Intercept b and Weight vector w.                              ##\n",
        "        #####################################################################################\n",
        "        # Intercept\n",
        "        self.b = 0\n",
        "        for n in range(len(self.alpha)):\n",
        "            self.b += self.sv_y[n]\n",
        "            self.b -= np.sum(self.alpha * self.sv_y * K[ind[n],sv])\n",
        "        self.b /= len(self.alpha)\n",
        "\n",
        "        # Weight vector\n",
        "        if self.kernel == linear_kernel:\n",
        "            self.w = np.zeros(n_features)\n",
        "            for n in range(len(self.alpha)):\n",
        "                self.w += self.alpha[n] * self.sv_y[n] * self.sv[n]\n",
        "        else:\n",
        "            self.w = None #Guidance: for non-linear case this should be None. (do not change)\n",
        "        #####################################################################################\n",
        "        #                                   END OF YOUR CODE                                #\n",
        "        #####################################################################################\n",
        "\n",
        "    def predict(self, X):\n",
        "        if self.w is not None:\n",
        "            return np.sign(np.dot(X, self.w) + self.b)\n",
        "        else:\n",
        "        #####################################################################################\n",
        "        ## TODO: For non-linear case, implement the kernel trick to predict the label.     ##\n",
        "        #####################################################################################\n",
        "            y_predict = np.zeros(len(X))\n",
        "            for i in range(len(X)):\n",
        "                s = 0\n",
        "                for a, sv_y, sv in zip(self.alpha, self.sv_y, self.sv):\n",
        "                    s += a * sv_y * self.kernel(X[i], sv)\n",
        "                y_predict[i] = s\n",
        "            # return y_predict + self.b\n",
        "            return np.sign(y_predict + self.b)\n",
        "\n",
        "        #####################################################################################\n",
        "        #                                   END OF YOUR CODE                                #\n",
        "        #####################################################################################"
      ]
    },
    {
      "cell_type": "code",
      "execution_count": 27,
      "metadata": {
        "hidden": true,
        "id": "IA-_mlalDC7J"
      },
      "outputs": [
        {
          "name": "stdout",
          "output_type": "stream",
          "text": [
            "results of MySVM linear kernel: (0.7926136363636364, 0.7972972972972973, 0.7329192546583851, 0.7637540453074434)\n",
            "results of MySVM polynomial kernel: (0.7329545454545454, 0.6558139534883721, 0.8757763975155279, 0.75)\n",
            "results of Mysvm RBF kerne‍l: (0.9090909090909091, 0.8816568047337278, 0.9254658385093167, 0.903030303030303)\n"
          ]
        }
      ],
      "source": [
        "###################################################################################\n",
        "## TODO: define 3 model same as previous part (SVM Using sklearn) and evaluate   ##\n",
        "## them. Note that for comaparing your result with that part for each kernel use ##\n",
        "## same parameters in both parts.                                                ##\n",
        "###################################################################################\n",
        "\n",
        "# linear kernel\n",
        "model = MySVM(kernel=linear_kernel, C=1)\n",
        "model.fit(X_train, y_train)\n",
        "y_pred = model.predict(X_test)\n",
        "print(\"results of MySVM linear kernel:\", classification_report(y_test , y_pred))\n",
        "\n",
        "\n",
        "# polynomial kernel\n",
        "model = MySVM(kernel=polynomial_kernel, C=10)\n",
        "model.fit(X_train, y_train)\n",
        "y_pred = model.predict(X_test)\n",
        "print(\"results of MySVM polynomial kernel:\", classification_report(y_test , y_pred))\n",
        "\n",
        "\n",
        "# # rbf kernel\n",
        "model = MySVM(kernel=rbf_kernel, C=1)\n",
        "model.fit(X_train, y_train)\n",
        "y_pred = model.predict(X_test)\n",
        "print(\"results of Mysvm RBF kerne‍l:\", classification_report(y_test , y_pred))"
      ]
    },
    {
      "cell_type": "markdown",
      "metadata": {
        "deletable": false,
        "editable": false,
        "heading_collapsed": true,
        "hidden": true,
        "id": "a1JwAefhhLvu",
        "run_control": {
          "frozen": true
        }
      },
      "source": [
        "#### Question 2: Report best results.\n",
        "\n",
        "\n",
        "\n",
        "1.  Best kernel: RBF\n",
        "2.  Best Accuracy: .90\n",
        "\n",
        "\n"
      ]
    },
    {
      "cell_type": "markdown",
      "metadata": {
        "deletable": false,
        "editable": false,
        "heading_collapsed": true,
        "hidden": true,
        "id": "g-O9IYYF6C63",
        "run_control": {
          "frozen": true
        }
      },
      "source": [
        "### Bonus Score - (10pts)\n",
        "\n",
        "In this step you can check other kernel functions or change parameters or any idea to get better result in compare with last section's results."
      ]
    },
    {
      "cell_type": "code",
      "execution_count": null,
      "metadata": {
        "hidden": true,
        "id": "krxI5Wod670a"
      },
      "outputs": [],
      "source": []
    }
  ],
  "metadata": {
    "colab": {
      "collapsed_sections": [],
      "provenance": [],
      "toc_visible": true
    },
    "kernelspec": {
      "display_name": "Python 3.9.13 ('base')",
      "language": "python",
      "name": "python3"
    },
    "language_info": {
      "codemirror_mode": {
        "name": "ipython",
        "version": 3
      },
      "file_extension": ".py",
      "mimetype": "text/x-python",
      "name": "python",
      "nbconvert_exporter": "python",
      "pygments_lexer": "ipython3",
      "version": "3.9.13"
    },
    "toc": {
      "base_numbering": 1,
      "nav_menu": {},
      "number_sections": true,
      "sideBar": true,
      "skip_h1_title": false,
      "title_cell": "Table of Contents",
      "title_sidebar": "Contents",
      "toc_cell": false,
      "toc_position": {},
      "toc_section_display": true,
      "toc_window_display": false
    },
    "varInspector": {
      "cols": {
        "lenName": 16,
        "lenType": 16,
        "lenVar": 40
      },
      "kernels_config": {
        "python": {
          "delete_cmd_postfix": "",
          "delete_cmd_prefix": "del ",
          "library": "var_list.py",
          "varRefreshCmd": "print(var_dic_list())"
        },
        "r": {
          "delete_cmd_postfix": ") ",
          "delete_cmd_prefix": "rm(",
          "library": "var_list.r",
          "varRefreshCmd": "cat(var_dic_list()) "
        }
      },
      "types_to_exclude": [
        "module",
        "function",
        "builtin_function_or_method",
        "instance",
        "_Feature"
      ],
      "window_display": false
    },
    "vscode": {
      "interpreter": {
        "hash": "49437dcc7aa383b38c4a71a2a1f52534b469bb46737650b90e77382e4f16d78e"
      }
    }
  },
  "nbformat": 4,
  "nbformat_minor": 0
}
